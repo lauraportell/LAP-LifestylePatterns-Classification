{
 "cells": [
  {
   "cell_type": "markdown",
   "metadata": {},
   "source": [
    "# Applying Traditional Classifiers using PCA"
   ]
  },
  {
   "cell_type": "markdown",
   "metadata": {},
   "source": [
    "In this notebook we load all the images and apply PCA to them (there are many images, so we use Incremental PCA, that allow us to deal with so many images). Once we have a tractable amount of data, we proceed to apply classifiers. \n",
    "\n",
    "GridSearch is used to find the best hyperparameters of the classifiers. We tried the floowing models: Knn, SVC, SVC Linear (which takes a more reasonable time than SVC RBF), Gradient Boosting, Random Forest and Adaboost. "
   ]
  },
  {
   "cell_type": "code",
   "execution_count": 4,
   "metadata": {},
   "outputs": [
    {
     "name": "stderr",
     "output_type": "stream",
     "text": [
      "/usr/local/lib/python2.7/dist-packages/sklearn/cross_validation.py:44: DeprecationWarning: This module was deprecated in version 0.18 in favor of the model_selection module into which all the refactored classes and functions are moved. Also note that the interface of the new CV iterators are different from that of this module. This module will be removed in 0.20.\n",
      "  \"This module will be removed in 0.20.\", DeprecationWarning)\n",
      "/usr/local/lib/python2.7/dist-packages/sklearn/grid_search.py:43: DeprecationWarning: This module was deprecated in version 0.18 in favor of the model_selection module into which all the refactored classes and functions are moved. This module will be removed in 0.20.\n",
      "  DeprecationWarning)\n"
     ]
    }
   ],
   "source": [
    "import logging\n",
    "import sys\n",
    "import os\n",
    "import numpy as np\n",
    "import pandas as pd\n",
    "import matplotlib.pyplot as plt\n",
    "\n",
    "# import our scripts\n",
    "SCRIPTS_PATH = '/../../scripts'\n",
    "sys.path.insert(0, os.getcwd()+SCRIPTS_PATH)\n",
    "#print sys.path\n",
    "from dataset import Dataset\n",
    "\n",
    "from sklearn.metrics import confusion_matrix\n",
    "from sklearn import svm\n",
    "from sklearn import cross_validation\n",
    "from sklearn import metrics\n",
    "from sklearn import grid_search\n",
    "from sklearn.model_selection import GridSearchCV\n",
    "from sklearn.svm import SVC\n",
    "from sklearn.metrics import classification_report\n",
    "from sklearn.metrics import confusion_matrix\n",
    "from sklearn import ensemble\n",
    "from sklearn.metrics import f1_score\n",
    "\n",
    "from sklearn.preprocessing import StandardScaler\n",
    "from sklearn.neighbors import KNeighborsClassifier\n",
    "from sklearn.svm import SVC\n",
    "from sklearn.tree import DecisionTreeClassifier\n",
    "from sklearn.ensemble import RandomForestClassifier, AdaBoostClassifier, GradientBoostingClassifier\n",
    "from sklearn.naive_bayes import GaussianNB\n",
    "from sklearn.metrics import precision_recall_fscore_support\n",
    "import itertools"
   ]
  },
  {
   "cell_type": "code",
   "execution_count": 5,
   "metadata": {
    "collapsed": true
   },
   "outputs": [],
   "source": [
    "#Save the confusion matrix, with a lot of information in it (Accuracy, Accuracy normalized, Precision, Recall, F1)\n",
    "def save_confusion_matrix(y_true, y_pred, name_to_save, title='Confusion matrix ', info=''):\n",
    "\n",
    "    # create the confusion matrix and normalize it\n",
    "    cm = 1.0*confusion_matrix(y_true, y_pred, labels=range(len(set(y_true))))\n",
    "    cm_norm = cm.astype('float') / cm.sum(axis=1)[:, np.newaxis]\n",
    "    inf = precision_recall_fscore_support(y_true, y_pred, average='weighted')\n",
    "    print '\\tPrecision:', inf[0],'\\t Recall:', inf[1]\n",
    "    print \"\\t\" +'F1 score:', inf[2]\n",
    "    # prepare the plot\n",
    "    fig = plt.figure()\n",
    "    plt.matshow(cm_norm)\n",
    "    tick_marks = np.arange(cm_norm.shape[0])\n",
    "    plt.xticks(tick_marks, rotation=45)\n",
    "    plt.yticks(tick_marks)\n",
    "    if (MULTITASK):\n",
    "        for i, j in itertools.product(range(cm_norm.shape[0]), range(cm_norm.shape[1])):\n",
    "            \"\"\"\n",
    "            plt.text(j, i, str(int(cm[i,j]))+' / '+str(int(sum(cm[i]))),\n",
    "                     horizontalalignment=\"center\",\n",
    "                     color=\"white\" if cm_norm[i, j] < 0.5 else \"black\")\n",
    "            \"\"\"\n",
    "            plt.text(j, i, str(round(cm_norm[i,j]*100, 2))+'%',\n",
    "                     horizontalalignment=\"center\",\n",
    "                     color=\"white\" if cm_norm[i, j] < 0.5 else \"black\")\n",
    "    plt.title(title)\n",
    "    plt.colorbar()\n",
    "    plt.ylabel('True label')\n",
    "    plt.xlabel('Predicted label \\n '+info+'\\n F1 score: '+str(round(inf[2],2))+'\\n Precision: '+str(round(inf[0], 2))+', Recall: '+str(round(inf[1], 2)))\n",
    "\n",
    "    # save the figure and close so it never gets displayed\n",
    "    plt.savefig(CONF_MATRIX+name_to_save+'.png')\n",
    "    plt.close(fig)"
   ]
  },
  {
   "cell_type": "code",
   "execution_count": 6,
   "metadata": {
    "collapsed": true
   },
   "outputs": [],
   "source": [
    "def preprocess_input(x):\n",
    "    x = x/255.\n",
    "    x = x - 0.5\n",
    "    x = x*2.\n",
    "    return x"
   ]
  },
  {
   "cell_type": "code",
   "execution_count": 7,
   "metadata": {
    "collapsed": true
   },
   "outputs": [],
   "source": [
    "#Extract the images from the given path, and returns the information of the image and the true label\n",
    "def get_data(val_ds):\n",
    "    #We want to obtain the intermediate layer, to apply Classifiers to them. In layer_output we append the layer from all the batches\n",
    "    #to obtain the intermediate layer from the given dataset and not just from a batch\n",
    "    layer_output = []\n",
    "    label=[]\n",
    "    #In label we obtain the y_true from all the given dataset\n",
    "    num_validations = val_ds.num_batches()\n",
    "    for iter_val in range(num_validations):\n",
    "        print 'iter_val: ', iter_val+1, 'out of: ', val_ds.num_batches()\n",
    "        # Get new batch and preprocess the image according to the model\n",
    "        X, y = val_ds.get_Xy(SIZE)\n",
    "        X = preprocess_input(X)\n",
    "        layer_output.append(X)\n",
    "        label+=y\n",
    "    return layer_output, label"
   ]
  },
  {
   "cell_type": "code",
   "execution_count": 8,
   "metadata": {
    "collapsed": true
   },
   "outputs": [],
   "source": [
    "# Creating or loading the data\n",
    "def get_data_model(load=False):\n",
    "    if (load):\n",
    "        #Load files\n",
    "        #X_train = np.load('npdata/X_train_noCNN_'+TITLE+'.npy')\n",
    "        y_train = np.load('npdata/y_train_noCNN_'+TITLE+'.npy')\n",
    "        #X_val = np.load('npdata/X_val_noCNN_'+TITLE+'.npy')\n",
    "        y_val = np.load('npdata/y_val_noCNN_'+TITLE+'.npy')\n",
    "        #X_test = np.load('npdata/X_test_noCNN_comp'+TITLE+'.npy')\n",
    "        y_test = np.load('npdata/y_test_noCNN_comp'+TITLE+'.npy')\n",
    "    else:\n",
    "        \n",
    "        # ------------------- Data\n",
    "        # prepare the training, validation and test dataset\n",
    "        train_ds = Dataset(TRAIN_TXT, NUM_TRAIN_IMG, BATCH_SIZE, CLASSES, \n",
    "                           data_augmentation=False, multitask = MULTITASK)\n",
    "        val_ds = Dataset(VAL_TXT, NUM_VAL_IMG, BATCH_SIZE, CLASSES, \n",
    "                         data_augmentation=False, multitask = MULTITASK)\n",
    "        \n",
    "        test_ds = Dataset(TEST_TXT, NUM_TEST_IMG, BATCH_SIZE, CLASSES, \n",
    "                         data_augmentation=False, multitask = MULTITASK)\n",
    "\n",
    "        \n",
    "        #Training\n",
    "        X_train, y_train = get_data(train_ds)\n",
    "        X_train = np.concatenate(X_train)\n",
    "        y_train = np.asarray(y_train)\n",
    "\n",
    "        #Validation\n",
    "        X_val, y_val = get_data(val_ds)\n",
    "        X_val = np.concatenate(X_val)\n",
    "        y_val = np.asarray(y_val)\n",
    "        \n",
    "        #Test\n",
    "        X_test, y_test = get_data(test_ds)\n",
    "        X_test = np.concatenate(X_test)\n",
    "        y_test = np.asarray(y_test)\n",
    "        \n",
    "        ## Save training and test dataset\n",
    "        np.save('npdata/X_train_noCNN_'+TITLE, X_train)\n",
    "        np.save('npdata/y_train_noCNN_'+TITLE, y_train)\n",
    "        np.save('npdata/X_val_noCNN_'+TITLE, X_val)\n",
    "        np.save('npdata/y_val_noCNN_'+TITLE, y_val)\n",
    "        \n",
    "        np.save('npdata/X_test_noCNN_comp'+TITLE, X_test)\n",
    "        np.save('npdata/y_test_noCNN_comp'+TITLE, y_test)\n",
    "\n",
    "    #return X_train, X_val, X_test, y_train, y_val, y_test\n",
    "    return y_train, y_val, y_test\n",
    "\n",
    "#Select which classifier to use. \n",
    "def accuracy_classifiers(X_train, X_test, y_train, y_test, not_grid_search=False,\n",
    "                         adaboost=False, gradient_boosting=False, random_forest=False,\n",
    "                         svc=False, linear_svc=False, k_neighbors=False, name_task='', class_weight=''):  \n",
    "        if (adaboost):\n",
    "            Adaboost_GridSearch(X_train, X_test, y_train, y_test, name_task=name_task)\n",
    "        if (gradient_boosting):\n",
    "            GradientBoosting_GridSearch(X_train, X_test, y_train, y_test, name_task=name_task)\n",
    "        if(random_forest):\n",
    "            RandomForest_GridSearch(X_train, X_test, y_train, y_test, name_task=name_task)\n",
    "        if(svc):\n",
    "            SVC_GridSearch(X_train, X_test, y_train, y_test, name_task=name_task, class_weight=class_weight)\n",
    "        if(linear_svc):\n",
    "            LinearSVC_GridSearch(X_train, X_test, y_train, y_test, name_task=name_task, class_weight=class_weight)\n",
    "        if(k_neighbors):\n",
    "            KNeighbors_GridSearch(X_train, X_test, y_train, y_test, name_task=name_task)\n",
    "            \n",
    "        if (not_grid_search):\n",
    "            otherClassifiers(X_train, X_test, y_train, y_test, name_task=name_task)\n",
    "        "
   ]
  },
  {
   "cell_type": "code",
   "execution_count": 9,
   "metadata": {
    "collapsed": true
   },
   "outputs": [],
   "source": [
    "#Computing accuracy with different classifiers. Without GridSearch run some classifiers, with default parameters.\n",
    "#Save a an image for each classifier with the confusion matrix and information\n",
    "def otherClassifiers(X_train, X_test, y_train, y_test, grid_search=False, name_task=''):\n",
    "    names = [\"Nearest Neighbors\", \"Linear SVM\", \"RBF SVM\", \n",
    "         \"Decision Tree\", \"Random Forest\", \"AdaBoost\",\n",
    "         \"Naive Bayes\", \"Gradient Boosting\"]\n",
    "    classifiers = [\n",
    "        KNeighborsClassifier(3),\n",
    "        SVC(kernel=\"linear\", C=0.025),\n",
    "        SVC(gamma=2, C=1),\n",
    "        DecisionTreeClassifier(),\n",
    "        RandomForestClassifier(n_estimators=10, max_features=1),\n",
    "        AdaBoostClassifier(),\n",
    "        GaussianNB(),\n",
    "        GradientBoostingClassifier()]\n",
    "    scaler = StandardScaler()\n",
    "    X_train = scaler.fit_transform(X_train)\n",
    "    X_test = scaler.transform(X_test)\n",
    "    for name, clf in zip(names, classifiers):    \n",
    "        # Standard parameter\n",
    "        clf.fit(X_train, y_train)\n",
    "        yhat = clf.predict(X_test)\n",
    "        # Recall, f1, precision\n",
    "        acc = metrics.accuracy_score(yhat, y_test)\n",
    "        acc_norm = normalized_accuracy(y_test, yhat)\n",
    "        print '\\n \\n',name\n",
    "        print '\\tAccuracy:',acc, '\\t Accuracy normalized:', acc_norm\n",
    "        save_confusion_matrix(y_test, yhat, TITLE+'_'+name+'_'+name_task+'_'+TITLE+'_noGrid_'+str(round(acc,5)), \n",
    "                          title=str(name)+' '+name_task, \n",
    "                          info='Acc.: '+ str(round(acc*100,2))+',  Acc. norm.:'+str(round(acc_norm*100,2)))\n",
    "        "
   ]
  },
  {
   "cell_type": "code",
   "execution_count": 10,
   "metadata": {
    "collapsed": true
   },
   "outputs": [],
   "source": [
    "#Computes de normalized accuracy. Given the true label and the y predicted, returns the normalized accuracy\n",
    "def normalized_accuracy(y_true, y_pred):\n",
    "    cm = 1.0*confusion_matrix(y_true, y_pred, labels=range(len(set(y_true))))\n",
    "    acc = []\n",
    "    for i, row in enumerate(cm):\n",
    "        acc.append(row[i]/sum(row))\n",
    "    return sum(acc)/len(acc)"
   ]
  },
  {
   "cell_type": "code",
   "execution_count": 11,
   "metadata": {
    "collapsed": true
   },
   "outputs": [],
   "source": [
    "#Given a binary matrix with labels (ex. [[1,0,0], [0, 0, 1]]) returns correspondent vector no binary ([0,2])\n",
    "def to_one_vector(y, pos):\n",
    "    return np.asarray([lbl[pos[0]:pos[1]].argmax() for lbl in y])    \n",
    "    "
   ]
  },
  {
   "cell_type": "code",
   "execution_count": 12,
   "metadata": {
    "collapsed": true
   },
   "outputs": [],
   "source": [
    "#KNeighbors Classifier applying GridSearchCV. In param_grid, you can choose the parameters to do in GridSearch\n",
    "def KNeighbors_GridSearch(X, X_test, y, y_test, name_task):\n",
    "    name = 'KNeighbors'\n",
    "    print  name\n",
    "    #p=1 is manhattan distance, p=2 is euclidean_distance\n",
    "    param_grid = [{'n_neighbors': [3, 5, 10, 100], 'metric': ['euclidean', 'manhattan','chebyshev', 'minkowski'], 'weights':['uniform','distance']}]\n",
    "\n",
    "    # KFold\n",
    "    nfolds = 5\n",
    "    kf = cross_validation.KFold(n=X.shape[0], n_folds=nfolds, shuffle=True, random_state=0)\n",
    "\n",
    "    yhat = np.empty_like(y)\n",
    "    acc = np.empty(nfolds)\n",
    "    acc_norm = np.empty(nfolds)\n",
    "    i = 0\n",
    "\n",
    "    best_acc = 0\n",
    "\n",
    "    for train_index, test_index in kf:\n",
    "        X_train, X_val = X[train_index], X[test_index]\n",
    "        y_train, y_val = y[train_index], y[test_index]\n",
    "\n",
    "        print \"Iteration KFold:\", i+1,'/',nfolds\n",
    "\n",
    "        scaler = StandardScaler()\n",
    "        X_train = scaler.fit_transform(X_train)\n",
    "        # Standard parameters\n",
    "        clf = KNeighborsClassifier()\n",
    "\n",
    "        # We can change the scoring \"average_precision\", \"recall\", \"f1\"\n",
    "        clf = grid_search.GridSearchCV(clf, param_grid, scoring='f1_weighted', n_jobs=4, verbose=1)\n",
    "        clf.fit(X_train,y_train.ravel())\n",
    "\n",
    "        X_val = scaler.transform(X_val)\n",
    "        yhat[test_index] = clf.predict(X_val)\n",
    "\n",
    "        acc[i] = metrics.accuracy_score(yhat[test_index], y_val)\n",
    "        acc_norm[i] = normalized_accuracy(y_val, yhat[test_index])\n",
    "        #We save the parameters with the ones we obtain better accuract\n",
    "        if (acc_norm[i]>best_acc):\n",
    "            best_acc = acc_norm[i]\n",
    "            best_param = clf.best_params_\n",
    "            \n",
    "            \n",
    "        print \"\\t\" + str(clf.best_params_), acc[i]\n",
    "        print\n",
    "        i=i+1\n",
    "\n",
    "    print 'Mean accuracy: '+ str(np.mean(acc))\n",
    "    \n",
    "    # Once we have the best parameters for the training dataset, we obtain the accuraacy for the test dataset with the best parameters obtained. \n",
    "    scaler = StandardScaler()\n",
    "    X_train = scaler.fit_transform(X)\n",
    "    X_test = scaler.fit_transform(X_test)\n",
    "\n",
    "    clf2 = KNeighborsClassifier(n_neighbors=best_param['n_neighbors'], \n",
    "                                               metric=best_param['metric'], weights=best_param['weights'])\n",
    "\n",
    "    clf2.fit(X_train, y)\n",
    "    yhat = clf2.predict(X_test)\n",
    "\n",
    "    acc = metrics.accuracy_score(yhat, y_test)\n",
    "    acc_norm = normalized_accuracy(y_test, yhat)\n",
    "    print best_param\n",
    "    print '\\tAccuracy:',acc, '\\t Accuracy normalized:', acc_norm\n",
    "    save_confusion_matrix(y_test, yhat, TITLE+'_'+name+'_'+name_task+'_'+TITLE+'_'+str(round(acc,5)), \n",
    "                      title=str(name)+'_'+name_task, \n",
    "                      info='Acc.: '+ str(round(acc,2))+',  Acc. norm.:'+str(round(acc_norm,2)))"
   ]
  },
  {
   "cell_type": "code",
   "execution_count": 13,
   "metadata": {
    "collapsed": true
   },
   "outputs": [],
   "source": [
    "#Linear SVC applying GridSearchCV. In param_grid, you can choose the parameters to do in GridSearch\n",
    "def LinearSVC_GridSearch(X, X_test, y, y_test, name_task, class_weight):\n",
    "    name = 'LinearSVC'\n",
    "    print  name\n",
    "    param_grid = [{'C': [0.001, 0.01, 0.1, 0.5, 1, 10, 100], 'loss': ['hinge', 'squared_hinge'], 'class_weight':[class_weight]}]\n",
    "    # KFold\n",
    "    nfolds = 5\n",
    "    kf = cross_validation.KFold(n=X.shape[0], n_folds=nfolds, shuffle=True, random_state=0)\n",
    "\n",
    "    yhat = np.empty_like(y)\n",
    "    acc = np.empty(nfolds)\n",
    "    acc_norm = np.empty(nfolds)\n",
    "    i = 0\n",
    "\n",
    "    best_acc = 0\n",
    "\n",
    "    for train_index, test_index in kf:\n",
    "        X_train, X_val = X[train_index], X[test_index]\n",
    "        y_train, y_val = y[train_index], y[test_index]\n",
    "\n",
    "        print \"Iteration KFold:\", i+1,'/',nfolds\n",
    "\n",
    "        scaler = StandardScaler()\n",
    "        X_train = scaler.fit_transform(X_train)\n",
    "        # Standard parameters\n",
    "        clf = svm.LinearSVC()\n",
    "\n",
    "        # We can change the scoring \"average_precision\", \"recall\", \"f1\"\n",
    "        clf = grid_search.GridSearchCV(clf, param_grid, scoring='f1_weighted', n_jobs=4, verbose=1)\n",
    "        clf.fit(X_train,y_train.ravel())\n",
    "\n",
    "        X_val = scaler.transform(X_val)\n",
    "        yhat[test_index] = clf.predict(X_val)\n",
    "\n",
    "        acc[i] = metrics.accuracy_score(yhat[test_index], y_val)\n",
    "        acc_norm[i] = normalized_accuracy(y_val, yhat[test_index])\n",
    "        #We save the parameters with the ones we obtain better accuract\n",
    "        if (acc_norm[i]>best_acc):\n",
    "            best_acc = acc_norm[i]\n",
    "            best_param = clf.best_params_\n",
    "            \n",
    "        print \"\\t\" + str(clf.best_params_), acc[i]\n",
    "        print\n",
    "        i=i+1\n",
    "\n",
    "    print 'Mean accuracy: '+ str(np.mean(acc))\n",
    "    \n",
    "    # Once we have the best parameters for the training dataset, we obtain the accuraacy for the test dataset with the best parameters obtained. \n",
    "    scaler = StandardScaler()\n",
    "    X_train = scaler.fit_transform(X)\n",
    "    X_test = scaler.fit_transform(X_test)\n",
    "\n",
    "    clf2 = svm.LinearSVC(loss=best_param['loss'], C=best_param['C'])\n",
    "\n",
    "    clf2.fit(X_train, y)\n",
    "    yhat = clf2.predict(X_test)\n",
    "\n",
    "    acc = metrics.accuracy_score(yhat, y_test)\n",
    "    acc_norm = normalized_accuracy(y_test, yhat)\n",
    "    print best_param\n",
    "    print '\\tAccuracy:',acc, '\\t Accuracy normalized:', acc_norm\n",
    "    save_confusion_matrix(y_test, yhat, TITLE+'_'+name+'_'+name_task+'_'+TITLE+'_'+class_weight+'_'+str(round(acc,5)), \n",
    "                      title=str(name)+'_'+name_task, \n",
    "                      info='Acc.: '+ str(round(acc*100,2))+',  Acc. norm.:'+str(round(acc_norm*100,2)))\n"
   ]
  },
  {
   "cell_type": "code",
   "execution_count": 14,
   "metadata": {
    "collapsed": true
   },
   "outputs": [],
   "source": [
    "#Gradient Boosting applying GridSearchCV. In param_grid, you can choose the parameters to do in GridSearch\n",
    "def GradientBoosting_GridSearch(X, X_test, y, y_test, name_task):\n",
    "    name = 'GradientBoosting'\n",
    "    print  name\n",
    "    param_grid = {'n_estimators':[10, 50, 100], 'learning_rate': [0.1, 0.01],\n",
    "                    #'max_depth': [3, 4, 6],\n",
    "                    'min_samples_leaf': [1, 3, 5]\n",
    "                    # 'max_features': [1.0, 0.3, 0.1]\n",
    "                    }\n",
    "\n",
    "    # KFold\n",
    "    nfolds = 2\n",
    "    kf = cross_validation.KFold(n=X.shape[0], n_folds=nfolds, shuffle=True, random_state=0)\n",
    "\n",
    "    yhat = np.empty_like(y)\n",
    "    acc = np.empty(nfolds)\n",
    "    acc_norm = np.empty(nfolds)\n",
    "    i = 0\n",
    "\n",
    "    best_acc = 0\n",
    "\n",
    "    for train_index, test_index in kf:\n",
    "        X_train, X_val = X[train_index], X[test_index]\n",
    "        y_train, y_val = y[train_index], y[test_index]\n",
    "\n",
    "        print \"Iteration KFold:\", i+1,'/',nfolds\n",
    "\n",
    "        scaler = StandardScaler()\n",
    "        X_train = scaler.fit_transform(X_train)\n",
    "        # Standard parameters\n",
    "        clf = ensemble.GradientBoostingClassifier()\n",
    "\n",
    "        # We can change the scoring \"average_precision\", \"recall\", \"f1\"\n",
    "        clf = grid_search.GridSearchCV(clf, param_grid, scoring='f1_weighted', n_jobs=4, verbose=1)\n",
    "        clf.fit(X_train,y_train.ravel())\n",
    "\n",
    "        X_val = scaler.transform(X_val)\n",
    "        yhat[test_index] = clf.predict(X_val)\n",
    "\n",
    "        acc[i] = metrics.accuracy_score(yhat[test_index], y_val)\n",
    "        acc_norm[i] = normalized_accuracy(y_val, yhat[test_index])\n",
    "        #We save the parameters with the ones we obtain better accuract\n",
    "        if (acc_norm[i]>best_acc):\n",
    "            best_acc = acc_norm[i]\n",
    "            best_param = clf.best_params_\n",
    "            \n",
    "        print \"\\t\" + str(clf.best_params_), acc[i]\n",
    "        print\n",
    "        i=i+1\n",
    "\n",
    "    print 'Mean accuracy: '+ str(np.mean(acc))\n",
    "    \n",
    "    # Once we have the best parameters for the training dataset, we obtain the accuraacy for the test dataset with the best parameters obtained. \n",
    "    scaler = StandardScaler()\n",
    "    X_train = scaler.fit_transform(X)\n",
    "    X_test = scaler.fit_transform(X_test)\n",
    "\n",
    "    clf2 = ensemble.GradientBoostingClassifier(n_estimators=best_param['n_estimators'], learning_rate=best_param['learning_rate'], \n",
    "                                              min_samples_leaf=best_param['min_samples_leaf'])\n",
    "       \n",
    "    clf2.fit(X_train, y)\n",
    "    yhat = clf2.predict(X_test)\n",
    "\n",
    "    acc = metrics.accuracy_score(yhat, y_test)\n",
    "    acc_norm = normalized_accuracy(y_test, yhat)\n",
    "    print best_param\n",
    "    print '\\tAccuracy:',acc, '\\t Accuracy normalized:', acc_norm\n",
    "    save_confusion_matrix(y_test, yhat, TITLE+'_'+name+'_'+name_task+'_'+TITLE+'_'+'_'+str(round(acc,5)), \n",
    "                      title=str(name)+'_'+name_task, \n",
    "                      info='Acc.: '+ str(round(acc*100,2))+',  Acc. norm.:'+str(round(acc_norm*100,2)))\n"
   ]
  },
  {
   "cell_type": "code",
   "execution_count": 15,
   "metadata": {
    "collapsed": true
   },
   "outputs": [],
   "source": [
    "#SVC applying GridSearchCV. In param_grid, you can choose the parameters to do in GridSearch\n",
    "def SVC_GridSearch(X, X_test, y, y_test, name_task, class_weight=''):\n",
    "    name = 'SVC'\n",
    "    print  name\n",
    "    param_grid = [{'kernel': ['rbf'], 'gamma': [0.1, 0.001, 0.0001, 'auto'], 'C': [0.01, 0.025, 0.5, 1, 10, 100], 'class_weight':[class_weight]}]\n",
    "    # KFold\n",
    "    nfolds = 5\n",
    "    kf = cross_validation.KFold(n=X.shape[0], n_folds=nfolds, shuffle=True, random_state=0)\n",
    "\n",
    "    yhat = np.empty_like(y)\n",
    "    acc = np.empty(nfolds)\n",
    "    acc_norm = np.empty(nfolds)\n",
    "    i = 0\n",
    "\n",
    "    best_acc = 0\n",
    "\n",
    "    for train_index, test_index in kf:\n",
    "        X_train, X_val = X[train_index], X[test_index]\n",
    "        y_train, y_val = y[train_index], y[test_index]\n",
    "\n",
    "        print \"Iteration KFold:\", i+1,'/',nfolds\n",
    "\n",
    "        scaler = StandardScaler()\n",
    "        X_train = scaler.fit_transform(X_train)\n",
    "        # Standard parameters\n",
    "        clf = SVC()\n",
    "\n",
    "        # We can change the scoring \"average_precision\", \"recall\", \"f1\"\n",
    "        clf = grid_search.GridSearchCV(clf, param_grid, scoring='f1_weighted', n_jobs=4, verbose=1)\n",
    "        clf.fit(X_train,y_train.ravel())\n",
    "\n",
    "        X_val = scaler.transform(X_val)\n",
    "        yhat[test_index] = clf.predict(X_val)\n",
    "\n",
    "        acc[i] = metrics.accuracy_score(yhat[test_index], y_val)\n",
    "        acc_norm[i] = normalized_accuracy(y_val, yhat[test_index])\n",
    "        #We save the parameters with the ones we obtain better accuract\n",
    "        if (acc_norm[i]>best_acc):\n",
    "            best_acc = acc_norm[i]\n",
    "            best_param = clf.best_params_\n",
    "            \n",
    "        print \"\\t\" + str(clf.best_params_), acc[i]\n",
    "        print\n",
    "        i=i+1\n",
    "\n",
    "    print 'Mean accuracy: '+ str(np.mean(acc))\n",
    "    \n",
    "    # Once we have the best parameters for the training dataset, we obtain the accuraacy for the test dataset with the best parameters obtained. \n",
    "    scaler = StandardScaler()\n",
    "    X_train = scaler.fit_transform(X)\n",
    "    X_test = scaler.fit_transform(X_test)\n",
    "\n",
    "    #if (best_param['kernel']=='rbf'):\n",
    "    clf2 = SVC(kernel=best_param['kernel'], gamma=best_param['gamma'], \n",
    "                                                   C=best_param['C'], class_weight=best_param['class_weight'])\n",
    "    #else:\n",
    "    #    clf2 = SVC(kernel=best_param['kernel'], C=best_param['C'])    \n",
    "        \n",
    "    clf2.fit(X_train, y)\n",
    "    yhat = clf2.predict(X_test)\n",
    "\n",
    "    acc = metrics.accuracy_score(yhat, y_test)\n",
    "    acc_norm = normalized_accuracy(y_test, yhat)\n",
    "    print best_param\n",
    "    print '\\tAccuracy:',acc, '\\t Accuracy normalized:', acc_norm\n",
    "    save_confusion_matrix(y_test, yhat, TITLE+'_'+name+'_'+name_task+'_'+TITLE+'_'+class_weight+'_'+str(round(acc,5)), \n",
    "                      title=str(name)+'_'+name_task, \n",
    "                      info='Acc.: '+ str(round(acc*100,2))+',  Acc. norm.:'+str(round(acc_norm*100,2)))\n"
   ]
  },
  {
   "cell_type": "markdown",
   "metadata": {},
   "source": [
    "## Dataset"
   ]
  },
  {
   "cell_type": "markdown",
   "metadata": {},
   "source": [
    "Run one of the datasets or insert anotherone. You can decide which one to run."
   ]
  },
  {
   "cell_type": "markdown",
   "metadata": {},
   "source": [
    "#### Multitask Dataset"
   ]
  },
  {
   "cell_type": "code",
   "execution_count": 62,
   "metadata": {
    "collapsed": true
   },
   "outputs": [],
   "source": [
    "#All the dataset multitask\n",
    "TITLE = 'multitask' \n",
    "DATASET_FOLDER = '../../data/datasets/tiny_ds/multitask_dataset'\n",
    "WEIGHTS_NAME = 'weights/weights_85-30_85-45_25_1040.h5'\n",
    "NUM_CLASSES = 7\n",
    "NUM_TRAIN_IMG = 5582 # just to check if the dataset was correctly loaded\n",
    "NUM_VAL_IMG = 1196   # just to check if the dataset was correctly loaded\n",
    "#NUM_TEST_IMG = 1195   # just to check if the dataset was correctly loaded\n",
    "NUM_TEST_IMG = 6794\n",
    "BATCH_SIZE = 64      # Depends on the available GPU memory\n",
    "MULTITASK = True\n",
    "MULTITASK_LBL = [\"Food\", \"Table\", \"Social\"]\n",
    "\n",
    "##### GENERAL SETTINGS\n",
    "TRAIN_TXT = DATASET_FOLDER+'/train.txt'\n",
    "VAL_TXT = DATASET_FOLDER+'/val.txt'\n",
    "TEST_TXT= '../../data/datasets/multitask_dataset/test.txt'\n",
    "\n",
    "\n",
    "CLASSES = DATASET_FOLDER+'/classesID.txt'\n",
    "OUTPUTS = 'outputs/'\n",
    "WEIGHTS_PATH = OUTPUTS + WEIGHTS_NAME\n",
    "NAME_SAVED_MODEL = OUTPUTS + 'weights/weights_'\n",
    "CONF_MATRIX = OUTPUTS + 'confusion_matrices/cm_'\n",
    "ACCU_LOSS = OUTPUTS + 'accuracy_loss/acc_loss_'\n",
    "MODEL_INPUT_WIDTH = 299\n",
    "MODEL_INPUT_HEIGHT = 299\n",
    "SIZE = [MODEL_INPUT_WIDTH, MODEL_INPUT_HEIGHT]"
   ]
  },
  {
   "cell_type": "markdown",
   "metadata": {},
   "source": [
    "##### Full Dataset"
   ]
  },
  {
   "cell_type": "code",
   "execution_count": null,
   "metadata": {
    "collapsed": true
   },
   "outputs": [],
   "source": [
    "#All the dataset multitask\n",
    "TITLE = 'full_dataset' \n",
    "DATASET_FOLDER = '../../data/datasets/tiny_ds/full_dataset'\n",
    "NUM_CLASSES = 12\n",
    "NUM_TRAIN_IMG = 5582 # just to check if the dataset was correctly loaded\n",
    "NUM_VAL_IMG = 1196   # just to check if the dataset was correctly loaded\n",
    "#NUM_TEST_IMG = 1195   # just to check if the dataset was correctly loaded\n",
    "NUM_TEST_IMG = 6794\n",
    "BATCH_SIZE = 64      # Depends on the available GPU memory\n",
    "MULTITASK = False\n",
    "\n",
    "##### GENERAL SETTINGS\n",
    "TRAIN_TXT = DATASET_FOLDER+'/train.txt'\n",
    "VAL_TXT = DATASET_FOLDER+'/val.txt'\n",
    "TEST_TXT= '../../data/datasets/full_dataset/test.txt'\n",
    "\n",
    "\n",
    "CLASSES = DATASET_FOLDER+'/classesID.txt'\n",
    "OUTPUTS = 'outputs/'\n",
    "WEIGHTS_PATH = OUTPUTS + WEIGHTS_NAME\n",
    "NAME_SAVED_MODEL = OUTPUTS + 'weights/weights_'\n",
    "CONF_MATRIX = OUTPUTS + 'confusion_matrices/cm_'\n",
    "ACCU_LOSS = OUTPUTS + 'accuracy_loss/acc_loss_'\n",
    "MODEL_INPUT_WIDTH = 299\n",
    "MODEL_INPUT_HEIGHT = 299\n",
    "SIZE = [MODEL_INPUT_WIDTH, MODEL_INPUT_HEIGHT]"
   ]
  },
  {
   "cell_type": "code",
   "execution_count": null,
   "metadata": {
    "scrolled": true
   },
   "outputs": [],
   "source": [
    "#Loading or creating the data\n",
    "X_train, X_val, X_test, y_train, y_val, y_test = get_data_model(load=True)\n",
    "X_train = np.vstack((X_train, X_val))"
   ]
  },
  {
   "cell_type": "code",
   "execution_count": 12,
   "metadata": {
    "collapsed": true
   },
   "outputs": [],
   "source": [
    "# Computing the all image RGB is too much, so we take the channel R\n",
    "X_train = X_train[:, :, :, 0]\n",
    "X_train= X_train.reshape(X_train.shape[0],-1)\n",
    "X_test = X_test[:, :, :, 0]\n",
    "X_test = X_test.reshape(X_test.shape[0],-1)\n",
    "y_train =  np.vstack((y_train, y_val))"
   ]
  },
  {
   "cell_type": "code",
   "execution_count": 17,
   "metadata": {},
   "outputs": [],
   "source": [
    "#Run this if you don't want to run the X_train and X_test. (You want to load directly the X after doing PCA)\n",
    "y_train, y_val, y_test = get_data_model(load=True)\n",
    "y_train =  np.vstack((y_train, y_val))\n"
   ]
  },
  {
   "cell_type": "markdown",
   "metadata": {},
   "source": [
    "### Incremental PCA"
   ]
  },
  {
   "cell_type": "markdown",
   "metadata": {},
   "source": [
    "If we use the standard PCA, we obtain memory error. So we use Incremental PCA, "
   ]
  },
  {
   "cell_type": "code",
   "execution_count": 14,
   "metadata": {
    "collapsed": true
   },
   "outputs": [],
   "source": [
    "from sklearn.decomposition import PCA, IncrementalPCA"
   ]
  },
  {
   "cell_type": "code",
   "execution_count": 20,
   "metadata": {},
   "outputs": [
    {
     "data": {
      "text/plain": [
       "(6778, 89401)"
      ]
     },
     "execution_count": 20,
     "metadata": {},
     "output_type": "execute_result"
    }
   ],
   "source": [
    "#initial shape before applying PCA\n",
    "X_train.shape"
   ]
  },
  {
   "cell_type": "code",
   "execution_count": 21,
   "metadata": {
    "collapsed": true
   },
   "outputs": [],
   "source": [
    "ipca = IncrementalPCA(n_components=250)"
   ]
  },
  {
   "cell_type": "code",
   "execution_count": 22,
   "metadata": {
    "collapsed": true
   },
   "outputs": [],
   "source": [
    "# Fitting the data with the training dataset\n",
    "fit_pca = ipca.fit(X_train)"
   ]
  },
  {
   "cell_type": "code",
   "execution_count": 23,
   "metadata": {},
   "outputs": [
    {
     "data": {
      "text/plain": [
       "0.95029825238972521"
      ]
     },
     "execution_count": 23,
     "metadata": {},
     "output_type": "execute_result"
    }
   ],
   "source": [
    "#Checking that the percentage of variance explained by each of the\n",
    "#selected components is over 98%\n",
    "sum(fit_pca.explained_variance_ratio_)"
   ]
  },
  {
   "cell_type": "code",
   "execution_count": 24,
   "metadata": {
    "collapsed": true
   },
   "outputs": [],
   "source": [
    "# applying dimensionality reduction to training dataset\n",
    "X_train = fit_pca.transform(X_train)\n",
    "# Observing the shape of the new training dataset \n",
    "X_train.shape\n",
    "#Saving the data after applying PCA\n",
    "np.save('npdata/X_train_PCA'+TITLE, X_train)"
   ]
  },
  {
   "cell_type": "code",
   "execution_count": 25,
   "metadata": {
    "collapsed": true
   },
   "outputs": [],
   "source": [
    "# applying dimensionaliity reduction to test dataset\n",
    "X_test =  fit_pca.transform(X_test)\n",
    "# Observing the shape of the new test dataset \n",
    "X_test.shape\n",
    "#Saving the data after applying PCA\n",
    "np.save('npdata/X_test_PCA'+TITLE, X_test)"
   ]
  },
  {
   "cell_type": "code",
   "execution_count": 18,
   "metadata": {
    "collapsed": true
   },
   "outputs": [],
   "source": [
    "X_train = np.load('npdata/X_train_PCA'+TITLE+'.npy')\n",
    "X_test = np.load('npdata/X_test_PCA'+TITLE+'.npy')"
   ]
  },
  {
   "cell_type": "code",
   "execution_count": 19,
   "metadata": {
    "collapsed": true
   },
   "outputs": [],
   "source": [
    "#If the dataset is Full dataset, don't run this\n",
    "#Converting the binary matrix into a vector with the number of the class\n",
    "y_train_food = to_one_vector(y_train, [0,3])\n",
    "y_test_food = to_one_vector(y_test, [0,3])\n",
    "\n",
    "y_train_social =  to_one_vector(y_train, [3,5])\n",
    "y_test_social =  to_one_vector(y_test, [3,5])\n",
    "\n",
    "y_train_table =  to_one_vector(y_train, [5,7])\n",
    "y_test_table =  to_one_vector(y_test, [5,7])"
   ]
  },
  {
   "cell_type": "markdown",
   "metadata": {},
   "source": [
    "We do not have all the information computed. But we can see some of the results that we have computed."
   ]
  },
  {
   "cell_type": "markdown",
   "metadata": {},
   "source": [
    "## Some results"
   ]
  },
  {
   "cell_type": "markdown",
   "metadata": {},
   "source": [
    "#### Using the separated dataset"
   ]
  },
  {
   "cell_type": "markdown",
   "metadata": {},
   "source": [
    "#### Food"
   ]
  },
  {
   "cell_type": "code",
   "execution_count": 47,
   "metadata": {},
   "outputs": [
    {
     "name": "stdout",
     "output_type": "stream",
     "text": [
      "\n",
      " \n",
      "Nearest Neighbors\n",
      "\tAccuracy: 0.926552840742 \t Accuracy normalized: 0.335587177917\n",
      "\tPrecision: 0.886828502419 \t Recall: 0.926552840742\n",
      "\tF1 score: 0.891659628872\n",
      "\n",
      " \n",
      "Linear SVM\n",
      "\tAccuracy: 0.926405652046 \t Accuracy normalized: 0.333333333333\n",
      "\tPrecision: 0.858227432143 \t Recall: 0.926405652046\n",
      "\tF1 score: 0.891014238077\n",
      "\n",
      " \n",
      "RBF SVM\n",
      "\tAccuracy: 0.87518398587 \t Accuracy normalized: 0.420379192429\n",
      "\tPrecision: 0.881192369976 \t Recall: 0.87518398587\n",
      "\tF1 score: 0.878133109466\n",
      "\n",
      " \n",
      "Decision Tree\n",
      "\tAccuracy: 0.931410067707 \t Accuracy normalized: 0.376812782543\n",
      "\tPrecision: 0.934564421415 \t Recall: 0.931410067707\n",
      "\tF1 score: 0.902716506519\n",
      "\n",
      " \n",
      "Random Forest\n",
      "\tAccuracy: 0.923461878128 \t Accuracy normalized: 0.36099530091\n",
      "\tPrecision: 0.885792951345 \t Recall: 0.923461878128\n",
      "\tF1 score: 0.895632736529\n"
     ]
    }
   ],
   "source": [
    "accuracy_classifiers(X_train, X_test, y_train_food, y_test_food, not_grid_search=True, name_task='PCA_Food')"
   ]
  },
  {
   "cell_type": "markdown",
   "metadata": {},
   "source": [
    "#### Table"
   ]
  },
  {
   "cell_type": "code",
   "execution_count": 48,
   "metadata": {},
   "outputs": [
    {
     "name": "stdout",
     "output_type": "stream",
     "text": [
      "\n",
      " \n",
      "Nearest Neighbors\n",
      "\tAccuracy: 0.62481601413 \t Accuracy normalized: 0.51188372904\n",
      "\tPrecision: 0.652719929773 \t Recall: 0.62481601413\n",
      "\tF1 score: 0.496538103731\n",
      "\n",
      " \n",
      "Linear SVM\n",
      "\tAccuracy: 0.620105975861 \t Accuracy normalized: 0.503080477474\n",
      "\tPrecision: 0.764766122852 \t Recall: 0.620105975861\n",
      "\tF1 score: 0.477155141199\n",
      "\n",
      " \n",
      "RBF SVM\n",
      "\tAccuracy: 0.656903149838 \t Accuracy normalized: 0.620353032847\n",
      "\tPrecision: 0.647754984448 \t Recall: 0.656903149838\n",
      "\tF1 score: 0.649422807488\n",
      "\n",
      " \n",
      "Decision Tree\n",
      "\tAccuracy: 0.658080659405 \t Accuracy normalized: 0.572423607122\n",
      "\tPrecision: 0.661382053231 \t Recall: 0.658080659405\n",
      "\tF1 score: 0.598418242103\n",
      "\n",
      " \n",
      "Random Forest\n",
      "\tAccuracy: 0.654842508095 \t Accuracy normalized: 0.572371586907\n",
      "\tPrecision: 0.650483340529 \t Recall: 0.654842508095\n",
      "\tF1 score: 0.600235251144\n"
     ]
    }
   ],
   "source": [
    "accuracy_classifiers(X_train, X_test, y_train_table, y_test_table, not_grid_search=True, name_task='PCA_Table')"
   ]
  },
  {
   "cell_type": "markdown",
   "metadata": {},
   "source": [
    "#### Social"
   ]
  },
  {
   "cell_type": "code",
   "execution_count": 49,
   "metadata": {},
   "outputs": [
    {
     "name": "stdout",
     "output_type": "stream",
     "text": [
      "\n",
      " \n",
      "Nearest Neighbors\n",
      "\tAccuracy: 0.71548425081 \t Accuracy normalized: 0.515831723505\n",
      "\tPrecision: 0.78837015074 \t Recall: 0.71548425081\n",
      "\tF1 score: 0.60614382555\n",
      "\n",
      " \n",
      "Linear SVM\n",
      "\tAccuracy: 0.706947306447 \t Accuracy normalized: 0.50114894446\n",
      "\tPrecision: 0.743980572133 \t Recall: 0.706947306447\n",
      "\tF1 score: 0.58645208227\n",
      "\n",
      " \n",
      "RBF SVM\n",
      "\tAccuracy: 0.717397703856 \t Accuracy normalized: 0.633311660063\n",
      "\tPrecision: 0.70396446 \t Recall: 0.717397703856\n",
      "\tF1 score: 0.708608891194\n",
      "\n",
      " \n",
      "Decision Tree\n",
      "\tAccuracy: 0.730350309096 \t Accuracy normalized: 0.559742657331\n",
      "\tPrecision: 0.721270452932 \t Recall: 0.730350309096\n",
      "\tF1 score: 0.661508455548\n",
      "\n",
      " \n",
      "Random Forest\n",
      "\tAccuracy: 0.725787459523 \t Accuracy normalized: 0.563834727473\n",
      "\tPrecision: 0.70123143655 \t Recall: 0.725787459523\n",
      "\tF1 score: 0.666029116125\n"
     ]
    }
   ],
   "source": [
    "accuracy_classifiers(X_train, X_test, y_train_social, y_test_social, not_grid_search=True, name_task='PCA_Social')"
   ]
  },
  {
   "cell_type": "markdown",
   "metadata": {},
   "source": [
    "### Grid Search"
   ]
  },
  {
   "cell_type": "markdown",
   "metadata": {},
   "source": [
    "#### Linear SVC"
   ]
  },
  {
   "cell_type": "code",
   "execution_count": 18,
   "metadata": {
    "scrolled": true
   },
   "outputs": [
    {
     "name": "stdout",
     "output_type": "stream",
     "text": [
      "LinearSVC\n",
      "balanced\n",
      "Iteration KFold: 1 / 5\n",
      "Fitting 3 folds for each of 14 candidates, totalling 42 fits\n"
     ]
    },
    {
     "name": "stderr",
     "output_type": "stream",
     "text": [
      "[Parallel(n_jobs=4)]: Done  42 out of  42 | elapsed:   19.9s finished\n"
     ]
    },
    {
     "name": "stdout",
     "output_type": "stream",
     "text": [
      "\t{'loss': 'hinge', 'C': 10, 'class_weight': 'balanced'} 0.76401179941\n",
      "\n",
      "Iteration KFold: 2 / 5\n",
      "Fitting 3 folds for each of 14 candidates, totalling 42 fits\n"
     ]
    },
    {
     "name": "stderr",
     "output_type": "stream",
     "text": [
      "[Parallel(n_jobs=4)]: Done  42 out of  42 | elapsed:   20.4s finished\n"
     ]
    },
    {
     "name": "stdout",
     "output_type": "stream",
     "text": [
      "\t{'loss': 'hinge', 'C': 10, 'class_weight': 'balanced'} 0.769174041298\n",
      "\n",
      "Iteration KFold: 3 / 5\n",
      "Fitting 3 folds for each of 14 candidates, totalling 42 fits\n"
     ]
    },
    {
     "name": "stderr",
     "output_type": "stream",
     "text": [
      "[Parallel(n_jobs=4)]: Done  42 out of  42 | elapsed:   20.3s finished\n"
     ]
    },
    {
     "name": "stdout",
     "output_type": "stream",
     "text": [
      "\t{'loss': 'squared_hinge', 'C': 10, 'class_weight': 'balanced'} 0.791297935103\n",
      "\n",
      "Iteration KFold: 4 / 5\n",
      "Fitting 3 folds for each of 14 candidates, totalling 42 fits\n"
     ]
    },
    {
     "name": "stderr",
     "output_type": "stream",
     "text": [
      "[Parallel(n_jobs=4)]: Done  42 out of  42 | elapsed:   20.4s finished\n"
     ]
    },
    {
     "name": "stdout",
     "output_type": "stream",
     "text": [
      "\t{'loss': 'squared_hinge', 'C': 10, 'class_weight': 'balanced'} 0.767527675277\n",
      "\n",
      "Iteration KFold: 5 / 5\n",
      "Fitting 3 folds for each of 14 candidates, totalling 42 fits\n"
     ]
    },
    {
     "name": "stderr",
     "output_type": "stream",
     "text": [
      "[Parallel(n_jobs=4)]: Done  42 out of  42 | elapsed:   20.7s finished\n"
     ]
    },
    {
     "name": "stdout",
     "output_type": "stream",
     "text": [
      "\t{'loss': 'hinge', 'C': 10, 'class_weight': 'balanced'} 0.769741697417\n",
      "\n",
      "Mean accuracy: 0.772350629701\n",
      "{'loss': 'squared_hinge', 'C': 10, 'class_weight': 'balanced'}\n",
      "\tAccuracy: 0.693405946423 \t Accuracy normalized: 0.530662611937\n",
      "\tPrecision: 0.635226019445 \t Recall: 0.693405946423\n",
      "\tF1 score: 0.632931370276\n"
     ]
    }
   ],
   "source": [
    "#Grid Search of Linear SVC for the computing if the image is social or not, taking into account the unbalanced dataset\n",
    "accuracy_classifiers(X_train, X_test, y_train_social, y_test_social, linear_svc=True, name_task='PCA_Social', class_weight='balanced')"
   ]
  },
  {
   "cell_type": "code",
   "execution_count": 19,
   "metadata": {
    "scrolled": true
   },
   "outputs": [
    {
     "name": "stdout",
     "output_type": "stream",
     "text": [
      "LinearSVC\n",
      "\n",
      "Iteration KFold: 1 / 5\n",
      "Fitting 3 folds for each of 14 candidates, totalling 42 fits\n"
     ]
    },
    {
     "name": "stderr",
     "output_type": "stream",
     "text": [
      "[Parallel(n_jobs=4)]: Done  35 out of  42 | elapsed:   14.3s remaining:    2.9s\n",
      "[Parallel(n_jobs=4)]: Done  42 out of  42 | elapsed:   17.3s finished\n"
     ]
    },
    {
     "name": "stdout",
     "output_type": "stream",
     "text": [
      "\t{'loss': 'squared_hinge', 'C': 0.1, 'class_weight': ''} 0.818584070796\n",
      "\n",
      "Iteration KFold: 2 / 5\n",
      "Fitting 3 folds for each of 14 candidates, totalling 42 fits\n"
     ]
    },
    {
     "name": "stderr",
     "output_type": "stream",
     "text": [
      "[Parallel(n_jobs=4)]: Done  42 out of  42 | elapsed:   17.8s finished\n"
     ]
    },
    {
     "name": "stdout",
     "output_type": "stream",
     "text": [
      "\t{'loss': 'squared_hinge', 'C': 0.1, 'class_weight': ''} 0.841445427729\n",
      "\n",
      "Iteration KFold: 3 / 5\n",
      "Fitting 3 folds for each of 14 candidates, totalling 42 fits\n"
     ]
    },
    {
     "name": "stderr",
     "output_type": "stream",
     "text": [
      "/usr/local/lib/python2.7/dist-packages/sklearn/metrics/classification.py:1113: UndefinedMetricWarning: F-score is ill-defined and being set to 0.0 in labels with no predicted samples.\n",
      "  'precision', 'predicted', average, warn_for)\n",
      "/usr/local/lib/python2.7/dist-packages/sklearn/metrics/classification.py:1113: UndefinedMetricWarning: F-score is ill-defined and being set to 0.0 in labels with no predicted samples.\n",
      "  'precision', 'predicted', average, warn_for)\n",
      "[Parallel(n_jobs=4)]: Done  42 out of  42 | elapsed:   17.9s finished\n"
     ]
    },
    {
     "name": "stdout",
     "output_type": "stream",
     "text": [
      "\t{'loss': 'squared_hinge', 'C': 0.5, 'class_weight': ''} 0.837020648968\n",
      "\n",
      "Iteration KFold: 4 / 5\n",
      "Fitting 3 folds for each of 14 candidates, totalling 42 fits\n"
     ]
    },
    {
     "name": "stderr",
     "output_type": "stream",
     "text": [
      "/usr/local/lib/python2.7/dist-packages/sklearn/metrics/classification.py:1113: UndefinedMetricWarning: F-score is ill-defined and being set to 0.0 in labels with no predicted samples.\n",
      "  'precision', 'predicted', average, warn_for)\n",
      "/usr/local/lib/python2.7/dist-packages/sklearn/metrics/classification.py:1113: UndefinedMetricWarning: F-score is ill-defined and being set to 0.0 in labels with no predicted samples.\n",
      "  'precision', 'predicted', average, warn_for)\n",
      "/usr/local/lib/python2.7/dist-packages/sklearn/metrics/classification.py:1113: UndefinedMetricWarning: F-score is ill-defined and being set to 0.0 in labels with no predicted samples.\n",
      "  'precision', 'predicted', average, warn_for)\n",
      "[Parallel(n_jobs=4)]: Done  42 out of  42 | elapsed:   17.6s finished\n"
     ]
    },
    {
     "name": "stdout",
     "output_type": "stream",
     "text": [
      "\t{'loss': 'squared_hinge', 'C': 0.01, 'class_weight': ''} 0.807380073801\n",
      "\n",
      "Iteration KFold: 5 / 5\n",
      "Fitting 3 folds for each of 14 candidates, totalling 42 fits\n"
     ]
    },
    {
     "name": "stderr",
     "output_type": "stream",
     "text": [
      "/usr/local/lib/python2.7/dist-packages/sklearn/metrics/classification.py:1113: UndefinedMetricWarning: F-score is ill-defined and being set to 0.0 in labels with no predicted samples.\n",
      "  'precision', 'predicted', average, warn_for)\n",
      "/usr/local/lib/python2.7/dist-packages/sklearn/metrics/classification.py:1113: UndefinedMetricWarning: F-score is ill-defined and being set to 0.0 in labels with no predicted samples.\n",
      "  'precision', 'predicted', average, warn_for)\n",
      "[Parallel(n_jobs=4)]: Done  42 out of  42 | elapsed:   17.9s finished\n"
     ]
    },
    {
     "name": "stdout",
     "output_type": "stream",
     "text": [
      "\t{'loss': 'squared_hinge', 'C': 0.1, 'class_weight': ''} 0.814022140221\n",
      "\n",
      "Mean accuracy: 0.823690472303\n",
      "{'loss': 'squared_hinge', 'C': 0.5, 'class_weight': ''}\n",
      "\tAccuracy: 0.70900794819 \t Accuracy normalized: 0.520473041324\n",
      "\tPrecision: 0.663176220164 \t Recall: 0.70900794819\n",
      "\tF1 score: 0.616828471357\n"
     ]
    }
   ],
   "source": [
    "#Grid Search of Linear SVC for the computing if the image is social or not\n",
    "accuracy_classifiers(X_train, X_test, y_train_social, y_test_social, linear_svc=True, name_task='PCA_Social', class_weight='')"
   ]
  },
  {
   "cell_type": "code",
   "execution_count": 21,
   "metadata": {
    "scrolled": true
   },
   "outputs": [
    {
     "name": "stdout",
     "output_type": "stream",
     "text": [
      "LinearSVC\n",
      "balanced\n",
      "Iteration KFold: 1 / 5\n",
      "Fitting 3 folds for each of 14 candidates, totalling 42 fits\n"
     ]
    },
    {
     "name": "stderr",
     "output_type": "stream",
     "text": [
      "[Parallel(n_jobs=4)]: Done  42 out of  42 | elapsed:   21.0s finished\n"
     ]
    },
    {
     "name": "stdout",
     "output_type": "stream",
     "text": [
      "\t{'loss': 'squared_hinge', 'C': 10, 'class_weight': 'balanced'} 0.718289085546\n",
      "\n",
      "Iteration KFold: 2 / 5\n",
      "Fitting 3 folds for each of 14 candidates, totalling 42 fits\n"
     ]
    },
    {
     "name": "stderr",
     "output_type": "stream",
     "text": [
      "[Parallel(n_jobs=4)]: Done  42 out of  42 | elapsed:   21.2s finished\n"
     ]
    },
    {
     "name": "stdout",
     "output_type": "stream",
     "text": [
      "\t{'loss': 'hinge', 'C': 100, 'class_weight': 'balanced'} 0.731563421829\n",
      "\n",
      "Iteration KFold: 3 / 5\n",
      "Fitting 3 folds for each of 14 candidates, totalling 42 fits\n"
     ]
    },
    {
     "name": "stderr",
     "output_type": "stream",
     "text": [
      "[Parallel(n_jobs=4)]: Done  42 out of  42 | elapsed:   21.9s finished\n"
     ]
    },
    {
     "name": "stdout",
     "output_type": "stream",
     "text": [
      "\t{'loss': 'hinge', 'C': 10, 'class_weight': 'balanced'} 0.700589970501\n",
      "\n",
      "Iteration KFold: 4 / 5\n",
      "Fitting 3 folds for each of 14 candidates, totalling 42 fits\n"
     ]
    },
    {
     "name": "stderr",
     "output_type": "stream",
     "text": [
      "[Parallel(n_jobs=4)]: Done  42 out of  42 | elapsed:   21.0s finished\n"
     ]
    },
    {
     "name": "stdout",
     "output_type": "stream",
     "text": [
      "\t{'loss': 'squared_hinge', 'C': 100, 'class_weight': 'balanced'} 0.712915129151\n",
      "\n",
      "Iteration KFold: 5 / 5\n",
      "Fitting 3 folds for each of 14 candidates, totalling 42 fits\n"
     ]
    },
    {
     "name": "stderr",
     "output_type": "stream",
     "text": [
      "[Parallel(n_jobs=4)]: Done  42 out of  42 | elapsed:   21.6s finished\n"
     ]
    },
    {
     "name": "stdout",
     "output_type": "stream",
     "text": [
      "\t{'loss': 'squared_hinge', 'C': 10, 'class_weight': 'balanced'} 0.684870848708\n",
      "\n",
      "Mean accuracy: 0.709645691147\n",
      "{'loss': 'squared_hinge', 'C': 10, 'class_weight': 'balanced'}\n",
      "\tAccuracy: 0.617898145422 \t Accuracy normalized: 0.540487553269\n",
      "\tPrecision: 0.587006153644 \t Recall: 0.617898145422\n",
      "\tF1 score: 0.569396519006\n"
     ]
    }
   ],
   "source": [
    "#Grid Search of Linear SVC for the computing if in the image is a table or not, taking into account the unbalanced dataset\n",
    "accuracy_classifiers(X_train, X_test, y_train_table, y_test_table, linear_svc=True, name_task='PCA_Table', class_weight='balanced')"
   ]
  },
  {
   "cell_type": "code",
   "execution_count": 22,
   "metadata": {
    "scrolled": true
   },
   "outputs": [
    {
     "name": "stdout",
     "output_type": "stream",
     "text": [
      "LinearSVC\n",
      "\n",
      "Iteration KFold: 1 / 5\n",
      "Fitting 3 folds for each of 14 candidates, totalling 42 fits\n"
     ]
    },
    {
     "name": "stderr",
     "output_type": "stream",
     "text": [
      "[Parallel(n_jobs=4)]: Done  42 out of  42 | elapsed:   19.4s finished\n"
     ]
    },
    {
     "name": "stdout",
     "output_type": "stream",
     "text": [
      "\t{'loss': 'squared_hinge', 'C': 0.5, 'class_weight': ''} 0.773598820059\n",
      "\n",
      "Iteration KFold: 2 / 5\n",
      "Fitting 3 folds for each of 14 candidates, totalling 42 fits\n",
      "\t{'loss': 'squared_hinge', 'C': 0.001, 'class_weight': ''} 0.779498525074\n",
      "\n",
      "Iteration KFold: 3 / 5\n",
      "Fitting 3 folds for each of 14 candidates, totalling 42 fits\n"
     ]
    },
    {
     "name": "stderr",
     "output_type": "stream",
     "text": [
      "[Parallel(n_jobs=4)]: Done  42 out of  42 | elapsed:   19.9s finished\n",
      "[Parallel(n_jobs=4)]: Done  42 out of  42 | elapsed:   19.7s finished\n"
     ]
    },
    {
     "name": "stdout",
     "output_type": "stream",
     "text": [
      "\t{'loss': 'squared_hinge', 'C': 0.1, 'class_weight': ''} 0.772861356932\n",
      "\n",
      "Iteration KFold: 4 / 5\n",
      "Fitting 3 folds for each of 14 candidates, totalling 42 fits\n"
     ]
    },
    {
     "name": "stderr",
     "output_type": "stream",
     "text": [
      "[Parallel(n_jobs=4)]: Done  42 out of  42 | elapsed:   19.8s finished\n"
     ]
    },
    {
     "name": "stdout",
     "output_type": "stream",
     "text": [
      "\t{'loss': 'squared_hinge', 'C': 0.5, 'class_weight': ''} 0.759409594096\n",
      "\n",
      "Iteration KFold: 5 / 5\n",
      "Fitting 3 folds for each of 14 candidates, totalling 42 fits\n"
     ]
    },
    {
     "name": "stderr",
     "output_type": "stream",
     "text": [
      "[Parallel(n_jobs=4)]: Done  42 out of  42 | elapsed:   19.9s finished\n"
     ]
    },
    {
     "name": "stdout",
     "output_type": "stream",
     "text": [
      "\t{'loss': 'squared_hinge', 'C': 0.01, 'class_weight': ''} 0.760885608856\n",
      "\n",
      "Mean accuracy: 0.769250781003\n",
      "{'loss': 'squared_hinge', 'C': 0.5, 'class_weight': ''}\n",
      "\tAccuracy: 0.627318221961 \t Accuracy normalized: 0.519413769797\n",
      "\tPrecision: 0.62772684558 \t Recall: 0.627318221961\n",
      "\tF1 score: 0.514737400612\n"
     ]
    }
   ],
   "source": [
    "#Grid Search of Linear SVC for the computing if in the image is a table or not\n",
    "accuracy_classifiers(X_train, X_test, y_train_table, y_test_table, linear_svc=True, name_task='PCA_Table', class_weight='')"
   ]
  },
  {
   "cell_type": "code",
   "execution_count": 23,
   "metadata": {
    "scrolled": true
   },
   "outputs": [
    {
     "name": "stdout",
     "output_type": "stream",
     "text": [
      "LinearSVC\n",
      "balanced\n",
      "Iteration KFold: 1 / 5\n",
      "Fitting 3 folds for each of 14 candidates, totalling 42 fits\n"
     ]
    },
    {
     "name": "stderr",
     "output_type": "stream",
     "text": [
      "[Parallel(n_jobs=4)]: Done  42 out of  42 | elapsed:   25.5s finished\n"
     ]
    },
    {
     "name": "stdout",
     "output_type": "stream",
     "text": [
      "\t{'loss': 'squared_hinge', 'C': 100, 'class_weight': 'balanced'} 0.94395280236\n",
      "\n",
      "Iteration KFold: 2 / 5\n",
      "Fitting 3 folds for each of 14 candidates, totalling 42 fits\n"
     ]
    },
    {
     "name": "stderr",
     "output_type": "stream",
     "text": [
      "[Parallel(n_jobs=4)]: Done  42 out of  42 | elapsed:   22.1s finished\n"
     ]
    },
    {
     "name": "stdout",
     "output_type": "stream",
     "text": [
      "\t{'loss': 'hinge', 'C': 0.001, 'class_weight': 'balanced'} 0.941740412979\n",
      "\n",
      "Iteration KFold: 3 / 5\n",
      "Fitting 3 folds for each of 14 candidates, totalling 42 fits\n"
     ]
    },
    {
     "name": "stderr",
     "output_type": "stream",
     "text": [
      "[Parallel(n_jobs=4)]: Done  42 out of  42 | elapsed:   23.3s finished\n"
     ]
    },
    {
     "name": "stdout",
     "output_type": "stream",
     "text": [
      "\t{'loss': 'hinge', 'C': 0.001, 'class_weight': 'balanced'} 0.944690265487\n",
      "\n",
      "Iteration KFold: 4 / 5\n",
      "Fitting 3 folds for each of 14 candidates, totalling 42 fits\n"
     ]
    },
    {
     "name": "stderr",
     "output_type": "stream",
     "text": [
      "[Parallel(n_jobs=4)]: Done  42 out of  42 | elapsed:   22.6s finished\n"
     ]
    },
    {
     "name": "stdout",
     "output_type": "stream",
     "text": [
      "\t{'loss': 'hinge', 'C': 0.001, 'class_weight': 'balanced'} 0.927675276753\n",
      "\n",
      "Iteration KFold: 5 / 5\n",
      "Fitting 3 folds for each of 14 candidates, totalling 42 fits\n"
     ]
    },
    {
     "name": "stderr",
     "output_type": "stream",
     "text": [
      "[Parallel(n_jobs=4)]: Done  42 out of  42 | elapsed:   24.1s finished\n"
     ]
    },
    {
     "name": "stdout",
     "output_type": "stream",
     "text": [
      "\t{'loss': 'squared_hinge', 'C': 100, 'class_weight': 'balanced'} 0.938007380074\n",
      "\n",
      "Mean accuracy: 0.939213227531\n",
      "{'loss': 'hinge', 'C': 0.001, 'class_weight': 'balanced'}\n",
      "\tAccuracy: 0.926405652046 \t Accuracy normalized: 0.333333333333\n",
      "\tPrecision: 0.858227432143 \t Recall: 0.926405652046\n",
      "\tF1 score: 0.891014238077\n"
     ]
    },
    {
     "name": "stderr",
     "output_type": "stream",
     "text": [
      "/usr/local/lib/python2.7/dist-packages/sklearn/metrics/classification.py:1113: UndefinedMetricWarning: Precision and F-score are ill-defined and being set to 0.0 in labels with no predicted samples.\n",
      "  'precision', 'predicted', average, warn_for)\n"
     ]
    }
   ],
   "source": [
    "#Grid Search of Linear SVC for the computing if in the image is FRNE, E, NFR, taking into account the unbalanced dataset\n",
    "accuracy_classifiers(X_train, X_test, y_train_food, y_test_food, linear_svc=True, name_task='PCA_Food', class_weight='balanced')"
   ]
  },
  {
   "cell_type": "code",
   "execution_count": 24,
   "metadata": {
    "scrolled": true
   },
   "outputs": [
    {
     "name": "stdout",
     "output_type": "stream",
     "text": [
      "LinearSVC\n",
      "\n",
      "Iteration KFold: 1 / 5\n",
      "Fitting 3 folds for each of 14 candidates, totalling 42 fits\n"
     ]
    },
    {
     "name": "stderr",
     "output_type": "stream",
     "text": [
      "/usr/local/lib/python2.7/dist-packages/sklearn/metrics/classification.py:1113: UndefinedMetricWarning: F-score is ill-defined and being set to 0.0 in labels with no predicted samples.\n",
      "  'precision', 'predicted', average, warn_for)\n",
      "/usr/local/lib/python2.7/dist-packages/sklearn/metrics/classification.py:1113: UndefinedMetricWarning: F-score is ill-defined and being set to 0.0 in labels with no predicted samples.\n",
      "  'precision', 'predicted', average, warn_for)\n",
      "/usr/local/lib/python2.7/dist-packages/sklearn/metrics/classification.py:1113: UndefinedMetricWarning: F-score is ill-defined and being set to 0.0 in labels with no predicted samples.\n",
      "  'precision', 'predicted', average, warn_for)\n",
      "/usr/local/lib/python2.7/dist-packages/sklearn/metrics/classification.py:1113: UndefinedMetricWarning: F-score is ill-defined and being set to 0.0 in labels with no predicted samples.\n",
      "  'precision', 'predicted', average, warn_for)\n",
      "[Parallel(n_jobs=4)]: Done  42 out of  42 | elapsed:   25.4s finished\n"
     ]
    },
    {
     "name": "stdout",
     "output_type": "stream",
     "text": [
      "\t{'loss': 'hinge', 'C': 0.1, 'class_weight': ''} 0.957227138643\n",
      "\n",
      "Iteration KFold: 2 / 5\n",
      "Fitting 3 folds for each of 14 candidates, totalling 42 fits\n"
     ]
    },
    {
     "name": "stderr",
     "output_type": "stream",
     "text": [
      "/usr/local/lib/python2.7/dist-packages/sklearn/metrics/classification.py:1113: UndefinedMetricWarning: F-score is ill-defined and being set to 0.0 in labels with no predicted samples.\n",
      "  'precision', 'predicted', average, warn_for)\n",
      "/usr/local/lib/python2.7/dist-packages/sklearn/metrics/classification.py:1113: UndefinedMetricWarning: F-score is ill-defined and being set to 0.0 in labels with no predicted samples.\n",
      "  'precision', 'predicted', average, warn_for)\n",
      "/usr/local/lib/python2.7/dist-packages/sklearn/metrics/classification.py:1113: UndefinedMetricWarning: F-score is ill-defined and being set to 0.0 in labels with no predicted samples.\n",
      "  'precision', 'predicted', average, warn_for)\n",
      "/usr/local/lib/python2.7/dist-packages/sklearn/metrics/classification.py:1113: UndefinedMetricWarning: F-score is ill-defined and being set to 0.0 in labels with no predicted samples.\n",
      "  'precision', 'predicted', average, warn_for)\n",
      "[Parallel(n_jobs=4)]: Done  42 out of  42 | elapsed:   20.2s finished\n"
     ]
    },
    {
     "name": "stdout",
     "output_type": "stream",
     "text": [
      "\t{'loss': 'squared_hinge', 'C': 0.01, 'class_weight': ''} 0.95796460177\n",
      "\n",
      "Iteration KFold: 3 / 5\n",
      "Fitting 3 folds for each of 14 candidates, totalling 42 fits\n"
     ]
    },
    {
     "name": "stderr",
     "output_type": "stream",
     "text": [
      "/usr/local/lib/python2.7/dist-packages/sklearn/metrics/classification.py:1113: UndefinedMetricWarning: F-score is ill-defined and being set to 0.0 in labels with no predicted samples.\n",
      "  'precision', 'predicted', average, warn_for)\n",
      "/usr/local/lib/python2.7/dist-packages/sklearn/metrics/classification.py:1113: UndefinedMetricWarning: F-score is ill-defined and being set to 0.0 in labels with no predicted samples.\n",
      "  'precision', 'predicted', average, warn_for)\n",
      "/usr/local/lib/python2.7/dist-packages/sklearn/metrics/classification.py:1113: UndefinedMetricWarning: F-score is ill-defined and being set to 0.0 in labels with no predicted samples.\n",
      "  'precision', 'predicted', average, warn_for)\n",
      "/usr/local/lib/python2.7/dist-packages/sklearn/metrics/classification.py:1113: UndefinedMetricWarning: F-score is ill-defined and being set to 0.0 in labels with no predicted samples.\n",
      "  'precision', 'predicted', average, warn_for)\n",
      "[Parallel(n_jobs=4)]: Done  42 out of  42 | elapsed:   21.9s finished\n"
     ]
    },
    {
     "name": "stdout",
     "output_type": "stream",
     "text": [
      "\t{'loss': 'squared_hinge', 'C': 0.01, 'class_weight': ''} 0.955752212389\n",
      "\n",
      "Iteration KFold: 4 / 5\n",
      "Fitting 3 folds for each of 14 candidates, totalling 42 fits\n"
     ]
    },
    {
     "name": "stderr",
     "output_type": "stream",
     "text": [
      "/usr/local/lib/python2.7/dist-packages/sklearn/metrics/classification.py:1113: UndefinedMetricWarning: F-score is ill-defined and being set to 0.0 in labels with no predicted samples.\n",
      "  'precision', 'predicted', average, warn_for)\n",
      "/usr/local/lib/python2.7/dist-packages/sklearn/metrics/classification.py:1113: UndefinedMetricWarning: F-score is ill-defined and being set to 0.0 in labels with no predicted samples.\n",
      "  'precision', 'predicted', average, warn_for)\n",
      "/usr/local/lib/python2.7/dist-packages/sklearn/metrics/classification.py:1113: UndefinedMetricWarning: F-score is ill-defined and being set to 0.0 in labels with no predicted samples.\n",
      "  'precision', 'predicted', average, warn_for)\n",
      "/usr/local/lib/python2.7/dist-packages/sklearn/metrics/classification.py:1113: UndefinedMetricWarning: F-score is ill-defined and being set to 0.0 in labels with no predicted samples.\n",
      "  'precision', 'predicted', average, warn_for)\n"
     ]
    },
    {
     "name": "stdout",
     "output_type": "stream",
     "text": [
      "\t{'loss': 'hinge', 'C': 0.001, 'class_weight': ''} 0.947601476015\n",
      "\n",
      "Iteration KFold: 5 / 5\n",
      "Fitting 3 folds for each of 14 candidates, totalling 42 fits\n"
     ]
    },
    {
     "name": "stderr",
     "output_type": "stream",
     "text": [
      "[Parallel(n_jobs=4)]: Done  42 out of  42 | elapsed:   20.6s finished\n",
      "/usr/local/lib/python2.7/dist-packages/sklearn/metrics/classification.py:1113: UndefinedMetricWarning: F-score is ill-defined and being set to 0.0 in labels with no predicted samples.\n",
      "  'precision', 'predicted', average, warn_for)\n",
      "/usr/local/lib/python2.7/dist-packages/sklearn/metrics/classification.py:1113: UndefinedMetricWarning: F-score is ill-defined and being set to 0.0 in labels with no predicted samples.\n",
      "  'precision', 'predicted', average, warn_for)\n",
      "/usr/local/lib/python2.7/dist-packages/sklearn/metrics/classification.py:1113: UndefinedMetricWarning: F-score is ill-defined and being set to 0.0 in labels with no predicted samples.\n",
      "  'precision', 'predicted', average, warn_for)\n",
      "/usr/local/lib/python2.7/dist-packages/sklearn/metrics/classification.py:1113: UndefinedMetricWarning: F-score is ill-defined and being set to 0.0 in labels with no predicted samples.\n",
      "  'precision', 'predicted', average, warn_for)\n",
      "[Parallel(n_jobs=4)]: Done  42 out of  42 | elapsed:   22.3s finished\n"
     ]
    },
    {
     "name": "stdout",
     "output_type": "stream",
     "text": [
      "\t{'loss': 'hinge', 'C': 0.001, 'class_weight': ''} 0.957933579336\n",
      "\n",
      "Mean accuracy: 0.955295801631\n",
      "{'loss': 'hinge', 'C': 0.1, 'class_weight': ''}\n",
      "\tAccuracy: 0.926405652046 \t Accuracy normalized: 0.333333333333\n",
      "\tPrecision: 0.858227432143 \t Recall: 0.926405652046\n",
      "\tF1 score: 0.891014238077\n"
     ]
    }
   ],
   "source": [
    "#Grid Search of Linear SVC for the computing if in the image is FRNE, E, NFR\n",
    "accuracy_classifiers(X_train, X_test, y_train_food, y_test_food, linear_svc=True, name_task='PCA_Food', class_weight='')"
   ]
  },
  {
   "cell_type": "markdown",
   "metadata": {},
   "source": [
    "### KNN"
   ]
  },
  {
   "cell_type": "code",
   "execution_count": 18,
   "metadata": {},
   "outputs": [
    {
     "name": "stdout",
     "output_type": "stream",
     "text": [
      "KNeighbors\n",
      "Iteration KFold: 1 / 5\n",
      "Fitting 3 folds for each of 32 candidates, totalling 96 fits\n"
     ]
    },
    {
     "name": "stderr",
     "output_type": "stream",
     "text": [
      "/usr/local/lib/python2.7/dist-packages/sklearn/metrics/classification.py:1113: UndefinedMetricWarning: F-score is ill-defined and being set to 0.0 in labels with no predicted samples.\n",
      "  'precision', 'predicted', average, warn_for)\n",
      "/usr/local/lib/python2.7/dist-packages/sklearn/metrics/classification.py:1113: UndefinedMetricWarning: F-score is ill-defined and being set to 0.0 in labels with no predicted samples.\n",
      "  'precision', 'predicted', average, warn_for)\n",
      "/usr/local/lib/python2.7/dist-packages/sklearn/metrics/classification.py:1113: UndefinedMetricWarning: F-score is ill-defined and being set to 0.0 in labels with no predicted samples.\n",
      "  'precision', 'predicted', average, warn_for)\n",
      "/usr/local/lib/python2.7/dist-packages/sklearn/metrics/classification.py:1113: UndefinedMetricWarning: F-score is ill-defined and being set to 0.0 in labels with no predicted samples.\n",
      "  'precision', 'predicted', average, warn_for)\n",
      "[Parallel(n_jobs=4)]: Done  42 tasks      | elapsed:   43.4s\n",
      "[Parallel(n_jobs=4)]: Done  96 out of  96 | elapsed:  1.5min finished\n"
     ]
    },
    {
     "name": "stdout",
     "output_type": "stream",
     "text": [
      "\t{'n_neighbors': 3, 'metric': 'manhattan', 'weights': 'distance'} 0.830383480826\n",
      "\n",
      "Iteration KFold: 2 / 5\n",
      "Fitting 3 folds for each of 32 candidates, totalling 96 fits\n"
     ]
    },
    {
     "name": "stderr",
     "output_type": "stream",
     "text": [
      "/usr/local/lib/python2.7/dist-packages/sklearn/metrics/classification.py:1113: UndefinedMetricWarning: F-score is ill-defined and being set to 0.0 in labels with no predicted samples.\n",
      "  'precision', 'predicted', average, warn_for)\n",
      "/usr/local/lib/python2.7/dist-packages/sklearn/metrics/classification.py:1113: UndefinedMetricWarning: F-score is ill-defined and being set to 0.0 in labels with no predicted samples.\n",
      "  'precision', 'predicted', average, warn_for)\n",
      "/usr/local/lib/python2.7/dist-packages/sklearn/metrics/classification.py:1113: UndefinedMetricWarning: F-score is ill-defined and being set to 0.0 in labels with no predicted samples.\n",
      "  'precision', 'predicted', average, warn_for)\n",
      "/usr/local/lib/python2.7/dist-packages/sklearn/metrics/classification.py:1113: UndefinedMetricWarning: F-score is ill-defined and being set to 0.0 in labels with no predicted samples.\n",
      "  'precision', 'predicted', average, warn_for)\n",
      "[Parallel(n_jobs=4)]: Done  42 tasks      | elapsed:   42.9s\n",
      "[Parallel(n_jobs=4)]: Done  96 out of  96 | elapsed:  1.5min finished\n"
     ]
    },
    {
     "name": "stdout",
     "output_type": "stream",
     "text": [
      "\t{'n_neighbors': 3, 'metric': 'manhattan', 'weights': 'distance'} 0.846607669617\n",
      "\n",
      "Iteration KFold: 3 / 5\n",
      "Fitting 3 folds for each of 32 candidates, totalling 96 fits\n"
     ]
    },
    {
     "name": "stderr",
     "output_type": "stream",
     "text": [
      "/usr/local/lib/python2.7/dist-packages/sklearn/metrics/classification.py:1113: UndefinedMetricWarning: F-score is ill-defined and being set to 0.0 in labels with no predicted samples.\n",
      "  'precision', 'predicted', average, warn_for)\n",
      "/usr/local/lib/python2.7/dist-packages/sklearn/metrics/classification.py:1113: UndefinedMetricWarning: F-score is ill-defined and being set to 0.0 in labels with no predicted samples.\n",
      "  'precision', 'predicted', average, warn_for)\n",
      "/usr/local/lib/python2.7/dist-packages/sklearn/metrics/classification.py:1113: UndefinedMetricWarning: F-score is ill-defined and being set to 0.0 in labels with no predicted samples.\n",
      "  'precision', 'predicted', average, warn_for)\n",
      "/usr/local/lib/python2.7/dist-packages/sklearn/metrics/classification.py:1113: UndefinedMetricWarning: F-score is ill-defined and being set to 0.0 in labels with no predicted samples.\n",
      "  'precision', 'predicted', average, warn_for)\n",
      "[Parallel(n_jobs=4)]: Done  42 tasks      | elapsed:   43.5s\n",
      "[Parallel(n_jobs=4)]: Done  96 out of  96 | elapsed:  1.5min finished\n"
     ]
    },
    {
     "name": "stdout",
     "output_type": "stream",
     "text": [
      "\t{'n_neighbors': 3, 'metric': 'manhattan', 'weights': 'distance'} 0.826696165192\n",
      "\n",
      "Iteration KFold: 4 / 5\n",
      "Fitting 3 folds for each of 32 candidates, totalling 96 fits\n"
     ]
    },
    {
     "name": "stderr",
     "output_type": "stream",
     "text": [
      "/usr/local/lib/python2.7/dist-packages/sklearn/metrics/classification.py:1113: UndefinedMetricWarning: F-score is ill-defined and being set to 0.0 in labels with no predicted samples.\n",
      "  'precision', 'predicted', average, warn_for)\n",
      "/usr/local/lib/python2.7/dist-packages/sklearn/metrics/classification.py:1113: UndefinedMetricWarning: F-score is ill-defined and being set to 0.0 in labels with no predicted samples.\n",
      "  'precision', 'predicted', average, warn_for)\n",
      "/usr/local/lib/python2.7/dist-packages/sklearn/metrics/classification.py:1113: UndefinedMetricWarning: F-score is ill-defined and being set to 0.0 in labels with no predicted samples.\n",
      "  'precision', 'predicted', average, warn_for)\n",
      "/usr/local/lib/python2.7/dist-packages/sklearn/metrics/classification.py:1113: UndefinedMetricWarning: F-score is ill-defined and being set to 0.0 in labels with no predicted samples.\n",
      "  'precision', 'predicted', average, warn_for)\n",
      "[Parallel(n_jobs=4)]: Done  42 tasks      | elapsed:   43.3s\n",
      "[Parallel(n_jobs=4)]: Done  96 out of  96 | elapsed:  1.5min finished\n"
     ]
    },
    {
     "name": "stdout",
     "output_type": "stream",
     "text": [
      "\t{'n_neighbors': 3, 'metric': 'manhattan', 'weights': 'distance'} 0.816974169742\n",
      "\n",
      "Iteration KFold: 5 / 5\n",
      "Fitting 3 folds for each of 32 candidates, totalling 96 fits\n"
     ]
    },
    {
     "name": "stderr",
     "output_type": "stream",
     "text": [
      "/usr/local/lib/python2.7/dist-packages/sklearn/metrics/classification.py:1113: UndefinedMetricWarning: F-score is ill-defined and being set to 0.0 in labels with no predicted samples.\n",
      "  'precision', 'predicted', average, warn_for)\n",
      "/usr/local/lib/python2.7/dist-packages/sklearn/metrics/classification.py:1113: UndefinedMetricWarning: F-score is ill-defined and being set to 0.0 in labels with no predicted samples.\n",
      "  'precision', 'predicted', average, warn_for)\n",
      "/usr/local/lib/python2.7/dist-packages/sklearn/metrics/classification.py:1113: UndefinedMetricWarning: F-score is ill-defined and being set to 0.0 in labels with no predicted samples.\n",
      "  'precision', 'predicted', average, warn_for)\n",
      "/usr/local/lib/python2.7/dist-packages/sklearn/metrics/classification.py:1113: UndefinedMetricWarning: F-score is ill-defined and being set to 0.0 in labels with no predicted samples.\n",
      "  'precision', 'predicted', average, warn_for)\n",
      "[Parallel(n_jobs=4)]: Done  42 tasks      | elapsed:   42.9s\n",
      "[Parallel(n_jobs=4)]: Done  96 out of  96 | elapsed:  1.5min finished\n"
     ]
    },
    {
     "name": "stdout",
     "output_type": "stream",
     "text": [
      "\t{'n_neighbors': 3, 'metric': 'manhattan', 'weights': 'distance'} 0.814760147601\n",
      "\n",
      "Mean accuracy: 0.827084326595\n",
      "{'n_neighbors': 3, 'metric': 'manhattan', 'weights': 'distance'}\n",
      "\tAccuracy: 0.734765969974 \t Accuracy normalized: 0.549103118287\n",
      "\tPrecision: 0.800182667102 \t Recall: 0.734765969974\n",
      "\tF1 score: 0.647509858033\n"
     ]
    }
   ],
   "source": [
    "accuracy_classifiers(X_train, X_test, y_train_social, y_test_social, k_neighbors=True, name_task='PCA_Social')"
   ]
  },
  {
   "cell_type": "code",
   "execution_count": 19,
   "metadata": {},
   "outputs": [
    {
     "name": "stdout",
     "output_type": "stream",
     "text": [
      "KNeighbors\n",
      "Iteration KFold: 1 / 5\n",
      "Fitting 3 folds for each of 32 candidates, totalling 96 fits\n"
     ]
    },
    {
     "name": "stderr",
     "output_type": "stream",
     "text": [
      "/usr/local/lib/python2.7/dist-packages/sklearn/metrics/classification.py:1113: UndefinedMetricWarning: F-score is ill-defined and being set to 0.0 in labels with no predicted samples.\n",
      "  'precision', 'predicted', average, warn_for)\n",
      "/usr/local/lib/python2.7/dist-packages/sklearn/metrics/classification.py:1113: UndefinedMetricWarning: F-score is ill-defined and being set to 0.0 in labels with no predicted samples.\n",
      "  'precision', 'predicted', average, warn_for)\n",
      "/usr/local/lib/python2.7/dist-packages/sklearn/metrics/classification.py:1113: UndefinedMetricWarning: F-score is ill-defined and being set to 0.0 in labels with no predicted samples.\n",
      "  'precision', 'predicted', average, warn_for)\n",
      "/usr/local/lib/python2.7/dist-packages/sklearn/metrics/classification.py:1113: UndefinedMetricWarning: F-score is ill-defined and being set to 0.0 in labels with no predicted samples.\n",
      "  'precision', 'predicted', average, warn_for)\n",
      "[Parallel(n_jobs=4)]: Done  42 tasks      | elapsed:   43.2s\n",
      "[Parallel(n_jobs=4)]: Done  96 out of  96 | elapsed:  1.5min finished\n"
     ]
    },
    {
     "name": "stdout",
     "output_type": "stream",
     "text": [
      "\t{'n_neighbors': 5, 'metric': 'euclidean', 'weights': 'uniform'} 0.957227138643\n",
      "\n",
      "Iteration KFold: 2 / 5\n",
      "Fitting 3 folds for each of 32 candidates, totalling 96 fits\n"
     ]
    },
    {
     "name": "stderr",
     "output_type": "stream",
     "text": [
      "/usr/local/lib/python2.7/dist-packages/sklearn/metrics/classification.py:1113: UndefinedMetricWarning: F-score is ill-defined and being set to 0.0 in labels with no predicted samples.\n",
      "  'precision', 'predicted', average, warn_for)\n",
      "/usr/local/lib/python2.7/dist-packages/sklearn/metrics/classification.py:1113: UndefinedMetricWarning: F-score is ill-defined and being set to 0.0 in labels with no predicted samples.\n",
      "  'precision', 'predicted', average, warn_for)\n",
      "/usr/local/lib/python2.7/dist-packages/sklearn/metrics/classification.py:1113: UndefinedMetricWarning: F-score is ill-defined and being set to 0.0 in labels with no predicted samples.\n",
      "  'precision', 'predicted', average, warn_for)\n",
      "/usr/local/lib/python2.7/dist-packages/sklearn/metrics/classification.py:1113: UndefinedMetricWarning: F-score is ill-defined and being set to 0.0 in labels with no predicted samples.\n",
      "  'precision', 'predicted', average, warn_for)\n",
      "[Parallel(n_jobs=4)]: Done  42 tasks      | elapsed:   43.1s\n",
      "[Parallel(n_jobs=4)]: Done  96 out of  96 | elapsed:  1.5min finished\n"
     ]
    },
    {
     "name": "stdout",
     "output_type": "stream",
     "text": [
      "\t{'n_neighbors': 3, 'metric': 'euclidean', 'weights': 'uniform'} 0.95796460177\n",
      "\n",
      "Iteration KFold: 3 / 5\n",
      "Fitting 3 folds for each of 32 candidates, totalling 96 fits\n"
     ]
    },
    {
     "name": "stderr",
     "output_type": "stream",
     "text": [
      "/usr/local/lib/python2.7/dist-packages/sklearn/metrics/classification.py:1113: UndefinedMetricWarning: F-score is ill-defined and being set to 0.0 in labels with no predicted samples.\n",
      "  'precision', 'predicted', average, warn_for)\n",
      "/usr/local/lib/python2.7/dist-packages/sklearn/metrics/classification.py:1113: UndefinedMetricWarning: F-score is ill-defined and being set to 0.0 in labels with no predicted samples.\n",
      "  'precision', 'predicted', average, warn_for)\n",
      "/usr/local/lib/python2.7/dist-packages/sklearn/metrics/classification.py:1113: UndefinedMetricWarning: F-score is ill-defined and being set to 0.0 in labels with no predicted samples.\n",
      "  'precision', 'predicted', average, warn_for)\n",
      "/usr/local/lib/python2.7/dist-packages/sklearn/metrics/classification.py:1113: UndefinedMetricWarning: F-score is ill-defined and being set to 0.0 in labels with no predicted samples.\n",
      "  'precision', 'predicted', average, warn_for)\n",
      "[Parallel(n_jobs=4)]: Done  42 tasks      | elapsed:   43.1s\n",
      "[Parallel(n_jobs=4)]: Done  96 out of  96 | elapsed:  1.5min finished\n"
     ]
    },
    {
     "name": "stdout",
     "output_type": "stream",
     "text": [
      "\t{'n_neighbors': 5, 'metric': 'euclidean', 'weights': 'uniform'} 0.955752212389\n",
      "\n",
      "Iteration KFold: 4 / 5\n",
      "Fitting 3 folds for each of 32 candidates, totalling 96 fits\n"
     ]
    },
    {
     "name": "stderr",
     "output_type": "stream",
     "text": [
      "/usr/local/lib/python2.7/dist-packages/sklearn/metrics/classification.py:1113: UndefinedMetricWarning: F-score is ill-defined and being set to 0.0 in labels with no predicted samples.\n",
      "  'precision', 'predicted', average, warn_for)\n",
      "/usr/local/lib/python2.7/dist-packages/sklearn/metrics/classification.py:1113: UndefinedMetricWarning: F-score is ill-defined and being set to 0.0 in labels with no predicted samples.\n",
      "  'precision', 'predicted', average, warn_for)\n",
      "/usr/local/lib/python2.7/dist-packages/sklearn/metrics/classification.py:1113: UndefinedMetricWarning: F-score is ill-defined and being set to 0.0 in labels with no predicted samples.\n",
      "  'precision', 'predicted', average, warn_for)\n",
      "/usr/local/lib/python2.7/dist-packages/sklearn/metrics/classification.py:1113: UndefinedMetricWarning: F-score is ill-defined and being set to 0.0 in labels with no predicted samples.\n",
      "  'precision', 'predicted', average, warn_for)\n",
      "[Parallel(n_jobs=4)]: Done  42 tasks      | elapsed:   43.1s\n",
      "[Parallel(n_jobs=4)]: Done  96 out of  96 | elapsed:  1.5min finished\n"
     ]
    },
    {
     "name": "stdout",
     "output_type": "stream",
     "text": [
      "\t{'n_neighbors': 3, 'metric': 'chebyshev', 'weights': 'uniform'} 0.948339483395\n",
      "\n",
      "Iteration KFold: 5 / 5\n",
      "Fitting 3 folds for each of 32 candidates, totalling 96 fits\n"
     ]
    },
    {
     "name": "stderr",
     "output_type": "stream",
     "text": [
      "/usr/local/lib/python2.7/dist-packages/sklearn/metrics/classification.py:1113: UndefinedMetricWarning: F-score is ill-defined and being set to 0.0 in labels with no predicted samples.\n",
      "  'precision', 'predicted', average, warn_for)\n",
      "/usr/local/lib/python2.7/dist-packages/sklearn/metrics/classification.py:1113: UndefinedMetricWarning: F-score is ill-defined and being set to 0.0 in labels with no predicted samples.\n",
      "  'precision', 'predicted', average, warn_for)\n",
      "/usr/local/lib/python2.7/dist-packages/sklearn/metrics/classification.py:1113: UndefinedMetricWarning: F-score is ill-defined and being set to 0.0 in labels with no predicted samples.\n",
      "  'precision', 'predicted', average, warn_for)\n",
      "/usr/local/lib/python2.7/dist-packages/sklearn/metrics/classification.py:1113: UndefinedMetricWarning: F-score is ill-defined and being set to 0.0 in labels with no predicted samples.\n",
      "  'precision', 'predicted', average, warn_for)\n",
      "[Parallel(n_jobs=4)]: Done  42 tasks      | elapsed:   42.9s\n",
      "[Parallel(n_jobs=4)]: Done  96 out of  96 | elapsed:  1.5min finished\n"
     ]
    },
    {
     "name": "stdout",
     "output_type": "stream",
     "text": [
      "\t{'n_neighbors': 3, 'metric': 'euclidean', 'weights': 'uniform'} 0.957933579336\n",
      "\n",
      "Mean accuracy: 0.955443403107\n",
      "{'n_neighbors': 3, 'metric': 'chebyshev', 'weights': 'uniform'}\n",
      "\tAccuracy: 0.925964085958 \t Accuracy normalized: 0.333174451859\n",
      "\tPrecision: 0.858197313653 \t Recall: 0.925964085958\n",
      "\tF1 score: 0.890793726713\n"
     ]
    }
   ],
   "source": [
    "accuracy_classifiers(X_train, X_test, y_train_food, y_test_food, k_neighbors=True, name_task='PCA_Food')"
   ]
  },
  {
   "cell_type": "code",
   "execution_count": 20,
   "metadata": {},
   "outputs": [
    {
     "name": "stdout",
     "output_type": "stream",
     "text": [
      "KNeighbors\n",
      "Iteration KFold: 1 / 5\n",
      "Fitting 3 folds for each of 32 candidates, totalling 96 fits\n"
     ]
    },
    {
     "name": "stderr",
     "output_type": "stream",
     "text": [
      "/usr/local/lib/python2.7/dist-packages/sklearn/metrics/classification.py:1113: UndefinedMetricWarning: F-score is ill-defined and being set to 0.0 in labels with no predicted samples.\n",
      "  'precision', 'predicted', average, warn_for)\n",
      "/usr/local/lib/python2.7/dist-packages/sklearn/metrics/classification.py:1113: UndefinedMetricWarning: F-score is ill-defined and being set to 0.0 in labels with no predicted samples.\n",
      "  'precision', 'predicted', average, warn_for)\n",
      "/usr/local/lib/python2.7/dist-packages/sklearn/metrics/classification.py:1113: UndefinedMetricWarning: F-score is ill-defined and being set to 0.0 in labels with no predicted samples.\n",
      "  'precision', 'predicted', average, warn_for)\n",
      "/usr/local/lib/python2.7/dist-packages/sklearn/metrics/classification.py:1113: UndefinedMetricWarning: F-score is ill-defined and being set to 0.0 in labels with no predicted samples.\n",
      "  'precision', 'predicted', average, warn_for)\n",
      "[Parallel(n_jobs=4)]: Done  42 tasks      | elapsed:   42.8s\n",
      "[Parallel(n_jobs=4)]: Done  96 out of  96 | elapsed:  1.5min finished\n"
     ]
    },
    {
     "name": "stdout",
     "output_type": "stream",
     "text": [
      "\t{'n_neighbors': 3, 'metric': 'manhattan', 'weights': 'uniform'} 0.773598820059\n",
      "\n",
      "Iteration KFold: 2 / 5\n",
      "Fitting 3 folds for each of 32 candidates, totalling 96 fits\n"
     ]
    },
    {
     "name": "stderr",
     "output_type": "stream",
     "text": [
      "/usr/local/lib/python2.7/dist-packages/sklearn/metrics/classification.py:1113: UndefinedMetricWarning: F-score is ill-defined and being set to 0.0 in labels with no predicted samples.\n",
      "  'precision', 'predicted', average, warn_for)\n",
      "/usr/local/lib/python2.7/dist-packages/sklearn/metrics/classification.py:1113: UndefinedMetricWarning: F-score is ill-defined and being set to 0.0 in labels with no predicted samples.\n",
      "  'precision', 'predicted', average, warn_for)\n",
      "/usr/local/lib/python2.7/dist-packages/sklearn/metrics/classification.py:1113: UndefinedMetricWarning: F-score is ill-defined and being set to 0.0 in labels with no predicted samples.\n",
      "  'precision', 'predicted', average, warn_for)\n",
      "/usr/local/lib/python2.7/dist-packages/sklearn/metrics/classification.py:1113: UndefinedMetricWarning: F-score is ill-defined and being set to 0.0 in labels with no predicted samples.\n",
      "  'precision', 'predicted', average, warn_for)\n",
      "[Parallel(n_jobs=4)]: Done  42 tasks      | elapsed:   42.8s\n",
      "[Parallel(n_jobs=4)]: Done  96 out of  96 | elapsed:  1.5min finished\n"
     ]
    },
    {
     "name": "stdout",
     "output_type": "stream",
     "text": [
      "\t{'n_neighbors': 3, 'metric': 'euclidean', 'weights': 'distance'} 0.78982300885\n",
      "\n",
      "Iteration KFold: 3 / 5\n",
      "Fitting 3 folds for each of 32 candidates, totalling 96 fits\n"
     ]
    },
    {
     "name": "stderr",
     "output_type": "stream",
     "text": [
      "/usr/local/lib/python2.7/dist-packages/sklearn/metrics/classification.py:1113: UndefinedMetricWarning: F-score is ill-defined and being set to 0.0 in labels with no predicted samples.\n",
      "  'precision', 'predicted', average, warn_for)\n",
      "/usr/local/lib/python2.7/dist-packages/sklearn/metrics/classification.py:1113: UndefinedMetricWarning: F-score is ill-defined and being set to 0.0 in labels with no predicted samples.\n",
      "  'precision', 'predicted', average, warn_for)\n",
      "/usr/local/lib/python2.7/dist-packages/sklearn/metrics/classification.py:1113: UndefinedMetricWarning: F-score is ill-defined and being set to 0.0 in labels with no predicted samples.\n",
      "  'precision', 'predicted', average, warn_for)\n",
      "/usr/local/lib/python2.7/dist-packages/sklearn/metrics/classification.py:1113: UndefinedMetricWarning: F-score is ill-defined and being set to 0.0 in labels with no predicted samples.\n",
      "  'precision', 'predicted', average, warn_for)\n",
      "[Parallel(n_jobs=4)]: Done  42 tasks      | elapsed:   42.9s\n",
      "[Parallel(n_jobs=4)]: Done  96 out of  96 | elapsed:  1.5min finished\n"
     ]
    },
    {
     "name": "stdout",
     "output_type": "stream",
     "text": [
      "\t{'n_neighbors': 3, 'metric': 'euclidean', 'weights': 'uniform'} 0.77581120944\n",
      "\n",
      "Iteration KFold: 4 / 5\n",
      "Fitting 3 folds for each of 32 candidates, totalling 96 fits\n"
     ]
    },
    {
     "name": "stderr",
     "output_type": "stream",
     "text": [
      "/usr/local/lib/python2.7/dist-packages/sklearn/metrics/classification.py:1113: UndefinedMetricWarning: F-score is ill-defined and being set to 0.0 in labels with no predicted samples.\n",
      "  'precision', 'predicted', average, warn_for)\n",
      "/usr/local/lib/python2.7/dist-packages/sklearn/metrics/classification.py:1113: UndefinedMetricWarning: F-score is ill-defined and being set to 0.0 in labels with no predicted samples.\n",
      "  'precision', 'predicted', average, warn_for)\n",
      "/usr/local/lib/python2.7/dist-packages/sklearn/metrics/classification.py:1113: UndefinedMetricWarning: F-score is ill-defined and being set to 0.0 in labels with no predicted samples.\n",
      "  'precision', 'predicted', average, warn_for)\n",
      "/usr/local/lib/python2.7/dist-packages/sklearn/metrics/classification.py:1113: UndefinedMetricWarning: F-score is ill-defined and being set to 0.0 in labels with no predicted samples.\n",
      "  'precision', 'predicted', average, warn_for)\n",
      "[Parallel(n_jobs=4)]: Done  42 tasks      | elapsed:   42.6s\n",
      "[Parallel(n_jobs=4)]: Done  96 out of  96 | elapsed:  1.5min finished\n"
     ]
    },
    {
     "name": "stdout",
     "output_type": "stream",
     "text": [
      "\t{'n_neighbors': 3, 'metric': 'manhattan', 'weights': 'distance'} 0.774169741697\n",
      "\n",
      "Iteration KFold: 5 / 5\n",
      "Fitting 3 folds for each of 32 candidates, totalling 96 fits\n"
     ]
    },
    {
     "name": "stderr",
     "output_type": "stream",
     "text": [
      "/usr/local/lib/python2.7/dist-packages/sklearn/metrics/classification.py:1113: UndefinedMetricWarning: F-score is ill-defined and being set to 0.0 in labels with no predicted samples.\n",
      "  'precision', 'predicted', average, warn_for)\n",
      "/usr/local/lib/python2.7/dist-packages/sklearn/metrics/classification.py:1113: UndefinedMetricWarning: F-score is ill-defined and being set to 0.0 in labels with no predicted samples.\n",
      "  'precision', 'predicted', average, warn_for)\n",
      "/usr/local/lib/python2.7/dist-packages/sklearn/metrics/classification.py:1113: UndefinedMetricWarning: F-score is ill-defined and being set to 0.0 in labels with no predicted samples.\n",
      "  'precision', 'predicted', average, warn_for)\n",
      "/usr/local/lib/python2.7/dist-packages/sklearn/metrics/classification.py:1113: UndefinedMetricWarning: F-score is ill-defined and being set to 0.0 in labels with no predicted samples.\n",
      "  'precision', 'predicted', average, warn_for)\n",
      "[Parallel(n_jobs=4)]: Done  42 tasks      | elapsed:   42.9s\n",
      "[Parallel(n_jobs=4)]: Done  96 out of  96 | elapsed:  1.5min finished\n"
     ]
    },
    {
     "name": "stdout",
     "output_type": "stream",
     "text": [
      "\t{'n_neighbors': 3, 'metric': 'manhattan', 'weights': 'distance'} 0.767527675277\n",
      "\n",
      "Mean accuracy: 0.776186091064\n",
      "{'n_neighbors': 3, 'metric': 'manhattan', 'weights': 'distance'}\n",
      "\tAccuracy: 0.654548130704 \t Accuracy normalized: 0.54989399161\n",
      "\tPrecision: 0.748304209074 \t Recall: 0.654548130704\n",
      "\tF1 score: 0.5545178198\n"
     ]
    }
   ],
   "source": [
    "accuracy_classifiers(X_train, X_test, y_train_table, y_test_table, k_neighbors=True, name_task='PCA_Table')"
   ]
  },
  {
   "cell_type": "markdown",
   "metadata": {},
   "source": [
    "### Gradient Boosting"
   ]
  },
  {
   "cell_type": "code",
   "execution_count": 22,
   "metadata": {
    "scrolled": true
   },
   "outputs": [
    {
     "name": "stdout",
     "output_type": "stream",
     "text": [
      "GradientBoosting\n",
      "Iteration KFold: 1 / 2\n",
      "Fitting 3 folds for each of 18 candidates, totalling 54 fits\n"
     ]
    },
    {
     "name": "stderr",
     "output_type": "stream",
     "text": [
      "/usr/local/lib/python2.7/dist-packages/sklearn/metrics/classification.py:1113: UndefinedMetricWarning: F-score is ill-defined and being set to 0.0 in labels with no predicted samples.\n",
      "  'precision', 'predicted', average, warn_for)\n",
      "/usr/local/lib/python2.7/dist-packages/sklearn/metrics/classification.py:1113: UndefinedMetricWarning: F-score is ill-defined and being set to 0.0 in labels with no predicted samples.\n",
      "  'precision', 'predicted', average, warn_for)\n",
      "/usr/local/lib/python2.7/dist-packages/sklearn/metrics/classification.py:1113: UndefinedMetricWarning: F-score is ill-defined and being set to 0.0 in labels with no predicted samples.\n",
      "  'precision', 'predicted', average, warn_for)\n",
      "/usr/local/lib/python2.7/dist-packages/sklearn/metrics/classification.py:1113: UndefinedMetricWarning: F-score is ill-defined and being set to 0.0 in labels with no predicted samples.\n",
      "  'precision', 'predicted', average, warn_for)\n",
      "[Parallel(n_jobs=4)]: Done  42 tasks      | elapsed:   21.8s\n",
      "[Parallel(n_jobs=4)]: Done  54 out of  54 | elapsed:   30.5s finished\n"
     ]
    },
    {
     "name": "stdout",
     "output_type": "stream",
     "text": [
      "\t{'n_estimators': 100, 'learning_rate': 0.1, 'min_samples_leaf': 5} 0.851873709059\n",
      "\n",
      "Iteration KFold: 2 / 2\n",
      "Fitting 3 folds for each of 18 candidates, totalling 54 fits\n"
     ]
    },
    {
     "name": "stderr",
     "output_type": "stream",
     "text": [
      "/usr/local/lib/python2.7/dist-packages/sklearn/metrics/classification.py:1113: UndefinedMetricWarning: F-score is ill-defined and being set to 0.0 in labels with no predicted samples.\n",
      "  'precision', 'predicted', average, warn_for)\n",
      "/usr/local/lib/python2.7/dist-packages/sklearn/metrics/classification.py:1113: UndefinedMetricWarning: F-score is ill-defined and being set to 0.0 in labels with no predicted samples.\n",
      "  'precision', 'predicted', average, warn_for)\n",
      "/usr/local/lib/python2.7/dist-packages/sklearn/metrics/classification.py:1113: UndefinedMetricWarning: F-score is ill-defined and being set to 0.0 in labels with no predicted samples.\n",
      "  'precision', 'predicted', average, warn_for)\n",
      "/usr/local/lib/python2.7/dist-packages/sklearn/metrics/classification.py:1113: UndefinedMetricWarning: F-score is ill-defined and being set to 0.0 in labels with no predicted samples.\n",
      "  'precision', 'predicted', average, warn_for)\n",
      "[Parallel(n_jobs=4)]: Done  42 tasks      | elapsed:   21.9s\n",
      "[Parallel(n_jobs=4)]: Done  54 out of  54 | elapsed:   30.2s finished\n"
     ]
    },
    {
     "name": "stdout",
     "output_type": "stream",
     "text": [
      "\t{'n_estimators': 100, 'learning_rate': 0.1, 'min_samples_leaf': 5} 0.835054588374\n",
      "\n",
      "Mean accuracy: 0.843464148716\n",
      "{'n_estimators': 100, 'learning_rate': 0.1, 'min_samples_leaf': 5}\n",
      "\tAccuracy: 0.720047100383 \t Accuracy normalized: 0.542784550457\n",
      "\tPrecision: 0.697033617283 \t Recall: 0.720047100383\n",
      "\tF1 score: 0.643149929595\n"
     ]
    }
   ],
   "source": [
    "accuracy_classifiers(X_train, X_test, y_train_social, y_test_social, gradient_boosting=True, name_task='PCA_Social')"
   ]
  },
  {
   "cell_type": "code",
   "execution_count": 23,
   "metadata": {
    "scrolled": true
   },
   "outputs": [
    {
     "name": "stdout",
     "output_type": "stream",
     "text": [
      "GradientBoosting\n",
      "Iteration KFold: 1 / 2\n",
      "Fitting 3 folds for each of 18 candidates, totalling 54 fits\n"
     ]
    },
    {
     "name": "stderr",
     "output_type": "stream",
     "text": [
      "/usr/local/lib/python2.7/dist-packages/sklearn/metrics/classification.py:1113: UndefinedMetricWarning: F-score is ill-defined and being set to 0.0 in labels with no predicted samples.\n",
      "  'precision', 'predicted', average, warn_for)\n",
      "/usr/local/lib/python2.7/dist-packages/sklearn/metrics/classification.py:1113: UndefinedMetricWarning: F-score is ill-defined and being set to 0.0 in labels with no predicted samples.\n",
      "  'precision', 'predicted', average, warn_for)\n",
      "/usr/local/lib/python2.7/dist-packages/sklearn/metrics/classification.py:1113: UndefinedMetricWarning: F-score is ill-defined and being set to 0.0 in labels with no predicted samples.\n",
      "  'precision', 'predicted', average, warn_for)\n",
      "/usr/local/lib/python2.7/dist-packages/sklearn/metrics/classification.py:1113: UndefinedMetricWarning: F-score is ill-defined and being set to 0.0 in labels with no predicted samples.\n",
      "  'precision', 'predicted', average, warn_for)\n",
      "[Parallel(n_jobs=4)]: Done  42 tasks      | elapsed:   22.5s\n",
      "[Parallel(n_jobs=4)]: Done  54 out of  54 | elapsed:   30.4s finished\n"
     ]
    },
    {
     "name": "stdout",
     "output_type": "stream",
     "text": [
      "\t{'n_estimators': 100, 'learning_rate': 0.1, 'min_samples_leaf': 1} 0.774564768368\n",
      "\n",
      "Iteration KFold: 2 / 2\n",
      "Fitting 3 folds for each of 18 candidates, totalling 54 fits\n"
     ]
    },
    {
     "name": "stderr",
     "output_type": "stream",
     "text": [
      "/usr/local/lib/python2.7/dist-packages/sklearn/metrics/classification.py:1113: UndefinedMetricWarning: F-score is ill-defined and being set to 0.0 in labels with no predicted samples.\n",
      "  'precision', 'predicted', average, warn_for)\n",
      "/usr/local/lib/python2.7/dist-packages/sklearn/metrics/classification.py:1113: UndefinedMetricWarning: F-score is ill-defined and being set to 0.0 in labels with no predicted samples.\n",
      "  'precision', 'predicted', average, warn_for)\n",
      "/usr/local/lib/python2.7/dist-packages/sklearn/metrics/classification.py:1113: UndefinedMetricWarning: F-score is ill-defined and being set to 0.0 in labels with no predicted samples.\n",
      "  'precision', 'predicted', average, warn_for)\n",
      "/usr/local/lib/python2.7/dist-packages/sklearn/metrics/classification.py:1113: UndefinedMetricWarning: F-score is ill-defined and being set to 0.0 in labels with no predicted samples.\n",
      "  'precision', 'predicted', average, warn_for)\n",
      "[Parallel(n_jobs=4)]: Done  42 tasks      | elapsed:   22.4s\n",
      "[Parallel(n_jobs=4)]: Done  54 out of  54 | elapsed:   29.7s finished\n"
     ]
    },
    {
     "name": "stdout",
     "output_type": "stream",
     "text": [
      "\t{'n_estimators': 100, 'learning_rate': 0.1, 'min_samples_leaf': 5} 0.769253467099\n",
      "\n",
      "Mean accuracy: 0.771909117734\n",
      "{'n_estimators': 100, 'learning_rate': 0.1, 'min_samples_leaf': 1}\n",
      "\tAccuracy: 0.63703267589 \t Accuracy normalized: 0.538506289538\n",
      "\tPrecision: 0.635639369317 \t Recall: 0.63703267589\n",
      "\tF1 score: 0.549832131674\n"
     ]
    }
   ],
   "source": [
    "accuracy_classifiers(X_train, X_test, y_train_table, y_test_table, gradient_boosting=True, name_task='PCA_Table')"
   ]
  },
  {
   "cell_type": "code",
   "execution_count": 24,
   "metadata": {
    "scrolled": true
   },
   "outputs": [
    {
     "name": "stdout",
     "output_type": "stream",
     "text": [
      "GradientBoosting\n",
      "Iteration KFold: 1 / 2\n",
      "Fitting 3 folds for each of 18 candidates, totalling 54 fits\n"
     ]
    },
    {
     "name": "stderr",
     "output_type": "stream",
     "text": [
      "/usr/local/lib/python2.7/dist-packages/sklearn/metrics/classification.py:1113: UndefinedMetricWarning: F-score is ill-defined and being set to 0.0 in labels with no predicted samples.\n",
      "  'precision', 'predicted', average, warn_for)\n",
      "/usr/local/lib/python2.7/dist-packages/sklearn/metrics/classification.py:1113: UndefinedMetricWarning: F-score is ill-defined and being set to 0.0 in labels with no predicted samples.\n",
      "  'precision', 'predicted', average, warn_for)\n",
      "/usr/local/lib/python2.7/dist-packages/sklearn/metrics/classification.py:1113: UndefinedMetricWarning: F-score is ill-defined and being set to 0.0 in labels with no predicted samples.\n",
      "  'precision', 'predicted', average, warn_for)\n",
      "/usr/local/lib/python2.7/dist-packages/sklearn/metrics/classification.py:1113: UndefinedMetricWarning: F-score is ill-defined and being set to 0.0 in labels with no predicted samples.\n",
      "  'precision', 'predicted', average, warn_for)\n",
      "[Parallel(n_jobs=4)]: Done  42 tasks      | elapsed:  1.0min\n",
      "[Parallel(n_jobs=4)]: Done  54 out of  54 | elapsed:  1.4min finished\n"
     ]
    },
    {
     "name": "stdout",
     "output_type": "stream",
     "text": [
      "\t{'n_estimators': 50, 'learning_rate': 0.1, 'min_samples_leaf': 3} 0.956329300679\n",
      "\n",
      "Iteration KFold: 2 / 2\n",
      "Fitting 3 folds for each of 18 candidates, totalling 54 fits\n"
     ]
    },
    {
     "name": "stderr",
     "output_type": "stream",
     "text": [
      "/usr/local/lib/python2.7/dist-packages/sklearn/metrics/classification.py:1113: UndefinedMetricWarning: F-score is ill-defined and being set to 0.0 in labels with no predicted samples.\n",
      "  'precision', 'predicted', average, warn_for)\n",
      "/usr/local/lib/python2.7/dist-packages/sklearn/metrics/classification.py:1113: UndefinedMetricWarning: F-score is ill-defined and being set to 0.0 in labels with no predicted samples.\n",
      "  'precision', 'predicted', average, warn_for)\n",
      "/usr/local/lib/python2.7/dist-packages/sklearn/metrics/classification.py:1113: UndefinedMetricWarning: F-score is ill-defined and being set to 0.0 in labels with no predicted samples.\n",
      "  'precision', 'predicted', average, warn_for)\n",
      "/usr/local/lib/python2.7/dist-packages/sklearn/metrics/classification.py:1113: UndefinedMetricWarning: F-score is ill-defined and being set to 0.0 in labels with no predicted samples.\n",
      "  'precision', 'predicted', average, warn_for)\n",
      "[Parallel(n_jobs=4)]: Done  42 tasks      | elapsed:   58.6s\n",
      "[Parallel(n_jobs=4)]: Done  54 out of  54 | elapsed:  1.3min finished\n"
     ]
    },
    {
     "name": "stdout",
     "output_type": "stream",
     "text": [
      "\t{'n_estimators': 50, 'learning_rate': 0.1, 'min_samples_leaf': 5} 0.953673650044\n",
      "\n",
      "Mean accuracy: 0.955001475361\n",
      "{'n_estimators': 50, 'learning_rate': 0.1, 'min_samples_leaf': 3}\n",
      "\tAccuracy: 0.926111274654 \t Accuracy normalized: 0.336528738488\n",
      "\tPrecision: 0.872862323722 \t Recall: 0.926111274654\n",
      "\tF1 score: 0.891775513188\n"
     ]
    },
    {
     "name": "stderr",
     "output_type": "stream",
     "text": [
      "/usr/local/lib/python2.7/dist-packages/sklearn/metrics/classification.py:1113: UndefinedMetricWarning: Precision and F-score are ill-defined and being set to 0.0 in labels with no predicted samples.\n",
      "  'precision', 'predicted', average, warn_for)\n"
     ]
    }
   ],
   "source": [
    "accuracy_classifiers(X_train, X_test, y_train_food, y_test_food, gradient_boosting=True, name_task='PCA_Food')"
   ]
  },
  {
   "cell_type": "markdown",
   "metadata": {},
   "source": [
    "###  Using Full dataset\n"
   ]
  },
  {
   "cell_type": "code",
   "execution_count": 41,
   "metadata": {},
   "outputs": [
    {
     "data": {
      "text/plain": [
       "(6778, 12)"
      ]
     },
     "execution_count": 41,
     "metadata": {},
     "output_type": "execute_result"
    }
   ],
   "source": [
    "y_train, y_val, y_test = get_data_model(load=True)\n",
    "y_train = np.vstack((y_train, y_val))\n",
    "y_train.shape"
   ]
  },
  {
   "cell_type": "code",
   "execution_count": 42,
   "metadata": {
    "collapsed": true
   },
   "outputs": [],
   "source": [
    "y_train = to_one_vector(y_train,[0,12])\n"
   ]
  },
  {
   "cell_type": "code",
   "execution_count": 43,
   "metadata": {},
   "outputs": [
    {
     "data": {
      "text/plain": [
       "(6778,)"
      ]
     },
     "execution_count": 43,
     "metadata": {},
     "output_type": "execute_result"
    }
   ],
   "source": [
    "y_train.shape"
   ]
  },
  {
   "cell_type": "code",
   "execution_count": 44,
   "metadata": {
    "collapsed": true
   },
   "outputs": [],
   "source": [
    "y_test = to_one_vector(y_test,[0,12])"
   ]
  },
  {
   "cell_type": "markdown",
   "metadata": {},
   "source": [
    "#### Other Classifiers"
   ]
  },
  {
   "cell_type": "code",
   "execution_count": 25,
   "metadata": {},
   "outputs": [
    {
     "name": "stdout",
     "output_type": "stream",
     "text": [
      "\n",
      " \n",
      "Nearest Neighbors\n",
      "\tAccuracy: 0.422137179865 \t Accuracy normalized: 0.0841143345121\n",
      "\tPrecision: 0.286215098781 \t Recall: 0.422137179865\n",
      "\tF1 score: 0.324616389061\n"
     ]
    },
    {
     "name": "stderr",
     "output_type": "stream",
     "text": [
      "/usr/local/lib/python2.7/dist-packages/sklearn/metrics/classification.py:1113: UndefinedMetricWarning: Precision and F-score are ill-defined and being set to 0.0 in labels with no predicted samples.\n",
      "  'precision', 'predicted', average, warn_for)\n"
     ]
    },
    {
     "name": "stdout",
     "output_type": "stream",
     "text": [
      "\n",
      " \n",
      "Linear SVM\n",
      "\tAccuracy: 0.466588166029 \t Accuracy normalized: 0.0830492590964\n",
      "\tPrecision: 0.43720083304 \t Recall: 0.466588166029\n",
      "\tF1 score: 0.298959072181\n",
      "\n",
      " \n",
      "RBF SVM\n",
      "\tAccuracy: 0.324403885782 \t Accuracy normalized: 0.0872632483996\n",
      "\tPrecision: 0.302444482651 \t Recall: 0.324403885782\n",
      "\tF1 score: 0.309139559556\n",
      "\n",
      " \n",
      "Decision Tree\n",
      "\tAccuracy: 0.433176332058 \t Accuracy normalized: 0.0838831981671\n",
      "\tPrecision: 0.293963683215 \t Recall: 0.433176332058\n",
      "\tF1 score: 0.323917995436\n",
      "\n",
      " \n",
      "Random Forest\n",
      "\tAccuracy: 0.438327936414 \t Accuracy normalized: 0.0829329182027\n",
      "\tPrecision: 0.294035943825 \t Recall: 0.438327936414\n",
      "\tF1 score: 0.304507526164\n"
     ]
    }
   ],
   "source": [
    "accuracy_classifiers(X_train, X_test, to_one_vector(y_train,[0,12]), to_one_vector(y_test,[0,12]), not_grid_search=True, name_task='PCA_Social')"
   ]
  },
  {
   "cell_type": "markdown",
   "metadata": {},
   "source": [
    "#### Linear SVC"
   ]
  },
  {
   "cell_type": "code",
   "execution_count": 51,
   "metadata": {},
   "outputs": [
    {
     "name": "stdout",
     "output_type": "stream",
     "text": [
      "LinearSVC\n",
      "balanced\n",
      "Iteration KFold: 1 / 5\n",
      "Fitting 3 folds for each of 14 candidates, totalling 42 fits\n"
     ]
    },
    {
     "name": "stderr",
     "output_type": "stream",
     "text": [
      "/usr/local/lib/python2.7/dist-packages/sklearn/metrics/classification.py:1113: UndefinedMetricWarning: F-score is ill-defined and being set to 0.0 in labels with no predicted samples.\n",
      "  'precision', 'predicted', average, warn_for)\n",
      "/usr/local/lib/python2.7/dist-packages/sklearn/metrics/classification.py:1113: UndefinedMetricWarning: F-score is ill-defined and being set to 0.0 in labels with no predicted samples.\n",
      "  'precision', 'predicted', average, warn_for)\n",
      "/usr/local/lib/python2.7/dist-packages/sklearn/metrics/classification.py:1115: UndefinedMetricWarning: F-score is ill-defined and being set to 0.0 in labels with no true samples.\n",
      "  'recall', 'true', average, warn_for)\n",
      "/usr/local/lib/python2.7/dist-packages/sklearn/metrics/classification.py:1113: UndefinedMetricWarning: F-score is ill-defined and being set to 0.0 in labels with no predicted samples.\n",
      "  'precision', 'predicted', average, warn_for)\n",
      "/usr/local/lib/python2.7/dist-packages/sklearn/metrics/classification.py:1115: UndefinedMetricWarning: F-score is ill-defined and being set to 0.0 in labels with no true samples.\n",
      "  'recall', 'true', average, warn_for)\n",
      "/usr/local/lib/python2.7/dist-packages/sklearn/metrics/classification.py:1113: UndefinedMetricWarning: F-score is ill-defined and being set to 0.0 in labels with no predicted samples.\n",
      "  'precision', 'predicted', average, warn_for)\n",
      "/usr/local/lib/python2.7/dist-packages/sklearn/metrics/classification.py:1115: UndefinedMetricWarning: F-score is ill-defined and being set to 0.0 in labels with no true samples.\n",
      "  'recall', 'true', average, warn_for)\n",
      "/usr/local/lib/python2.7/dist-packages/sklearn/metrics/classification.py:1115: UndefinedMetricWarning: F-score is ill-defined and being set to 0.0 in labels with no true samples.\n",
      "  'recall', 'true', average, warn_for)\n",
      "[Parallel(n_jobs=4)]: Done  42 out of  42 | elapsed:  2.2min finished\n"
     ]
    },
    {
     "name": "stdout",
     "output_type": "stream",
     "text": [
      "\t{'loss': 'squared_hinge', 'C': 100, 'class_weight': 'balanced'} 0.34808259587\n",
      "\n",
      "Iteration KFold: 2 / 5\n",
      "Fitting 3 folds for each of 14 candidates, totalling 42 fits\n"
     ]
    },
    {
     "name": "stderr",
     "output_type": "stream",
     "text": [
      "/usr/local/lib/python2.7/dist-packages/sklearn/metrics/classification.py:1113: UndefinedMetricWarning: F-score is ill-defined and being set to 0.0 in labels with no predicted samples.\n",
      "  'precision', 'predicted', average, warn_for)\n",
      "/usr/local/lib/python2.7/dist-packages/sklearn/metrics/classification.py:1113: UndefinedMetricWarning: F-score is ill-defined and being set to 0.0 in labels with no predicted samples.\n",
      "  'precision', 'predicted', average, warn_for)\n",
      "/usr/local/lib/python2.7/dist-packages/sklearn/metrics/classification.py:1115: UndefinedMetricWarning: F-score is ill-defined and being set to 0.0 in labels with no true samples.\n",
      "  'recall', 'true', average, warn_for)\n",
      "/usr/local/lib/python2.7/dist-packages/sklearn/metrics/classification.py:1113: UndefinedMetricWarning: F-score is ill-defined and being set to 0.0 in labels with no predicted samples.\n",
      "  'precision', 'predicted', average, warn_for)\n",
      "/usr/local/lib/python2.7/dist-packages/sklearn/metrics/classification.py:1115: UndefinedMetricWarning: F-score is ill-defined and being set to 0.0 in labels with no true samples.\n",
      "  'recall', 'true', average, warn_for)\n",
      "/usr/local/lib/python2.7/dist-packages/sklearn/metrics/classification.py:1113: UndefinedMetricWarning: F-score is ill-defined and being set to 0.0 in labels with no predicted samples.\n",
      "  'precision', 'predicted', average, warn_for)\n",
      "/usr/local/lib/python2.7/dist-packages/sklearn/metrics/classification.py:1115: UndefinedMetricWarning: F-score is ill-defined and being set to 0.0 in labels with no true samples.\n",
      "  'recall', 'true', average, warn_for)\n",
      "/usr/local/lib/python2.7/dist-packages/sklearn/metrics/classification.py:1115: UndefinedMetricWarning: F-score is ill-defined and being set to 0.0 in labels with no true samples.\n",
      "  'recall', 'true', average, warn_for)\n",
      "[Parallel(n_jobs=4)]: Done  42 out of  42 | elapsed:  2.1min finished\n"
     ]
    },
    {
     "name": "stdout",
     "output_type": "stream",
     "text": [
      "\t{'loss': 'squared_hinge', 'C': 10, 'class_weight': 'balanced'} 0.401179941003\n",
      "\n",
      "Iteration KFold: 3 / 5\n",
      "Fitting 3 folds for each of 14 candidates, totalling 42 fits\n"
     ]
    },
    {
     "name": "stderr",
     "output_type": "stream",
     "text": [
      "/usr/local/lib/python2.7/dist-packages/sklearn/metrics/classification.py:1113: UndefinedMetricWarning: F-score is ill-defined and being set to 0.0 in labels with no predicted samples.\n",
      "  'precision', 'predicted', average, warn_for)\n",
      "/usr/local/lib/python2.7/dist-packages/sklearn/metrics/classification.py:1113: UndefinedMetricWarning: F-score is ill-defined and being set to 0.0 in labels with no predicted samples.\n",
      "  'precision', 'predicted', average, warn_for)\n",
      "/usr/local/lib/python2.7/dist-packages/sklearn/metrics/classification.py:1115: UndefinedMetricWarning: F-score is ill-defined and being set to 0.0 in labels with no true samples.\n",
      "  'recall', 'true', average, warn_for)\n",
      "/usr/local/lib/python2.7/dist-packages/sklearn/metrics/classification.py:1113: UndefinedMetricWarning: F-score is ill-defined and being set to 0.0 in labels with no predicted samples.\n",
      "  'precision', 'predicted', average, warn_for)\n",
      "/usr/local/lib/python2.7/dist-packages/sklearn/metrics/classification.py:1115: UndefinedMetricWarning: F-score is ill-defined and being set to 0.0 in labels with no true samples.\n",
      "  'recall', 'true', average, warn_for)\n",
      "/usr/local/lib/python2.7/dist-packages/sklearn/metrics/classification.py:1113: UndefinedMetricWarning: F-score is ill-defined and being set to 0.0 in labels with no predicted samples.\n",
      "  'precision', 'predicted', average, warn_for)\n",
      "/usr/local/lib/python2.7/dist-packages/sklearn/metrics/classification.py:1115: UndefinedMetricWarning: F-score is ill-defined and being set to 0.0 in labels with no true samples.\n",
      "  'recall', 'true', average, warn_for)\n",
      "/usr/local/lib/python2.7/dist-packages/sklearn/metrics/classification.py:1115: UndefinedMetricWarning: F-score is ill-defined and being set to 0.0 in labels with no true samples.\n",
      "  'recall', 'true', average, warn_for)\n",
      "[Parallel(n_jobs=4)]: Done  42 out of  42 | elapsed:  2.1min finished\n"
     ]
    },
    {
     "name": "stdout",
     "output_type": "stream",
     "text": [
      "\t{'loss': 'squared_hinge', 'C': 10, 'class_weight': 'balanced'} 0.378318584071\n",
      "\n",
      "Iteration KFold: 4 / 5\n",
      "Fitting 3 folds for each of 14 candidates, totalling 42 fits\n"
     ]
    },
    {
     "name": "stderr",
     "output_type": "stream",
     "text": [
      "/usr/local/lib/python2.7/dist-packages/sklearn/metrics/classification.py:1113: UndefinedMetricWarning: F-score is ill-defined and being set to 0.0 in labels with no predicted samples.\n",
      "  'precision', 'predicted', average, warn_for)\n",
      "/usr/local/lib/python2.7/dist-packages/sklearn/metrics/classification.py:1113: UndefinedMetricWarning: F-score is ill-defined and being set to 0.0 in labels with no predicted samples.\n",
      "  'precision', 'predicted', average, warn_for)\n",
      "[Parallel(n_jobs=4)]: Done  42 out of  42 | elapsed:  2.2min finished\n"
     ]
    },
    {
     "name": "stdout",
     "output_type": "stream",
     "text": [
      "\t{'loss': 'squared_hinge', 'C': 10, 'class_weight': 'balanced'} 0.369741697417\n",
      "\n",
      "Iteration KFold: 5 / 5\n",
      "Fitting 3 folds for each of 14 candidates, totalling 42 fits\n"
     ]
    },
    {
     "name": "stderr",
     "output_type": "stream",
     "text": [
      "/usr/local/lib/python2.7/dist-packages/sklearn/metrics/classification.py:1113: UndefinedMetricWarning: F-score is ill-defined and being set to 0.0 in labels with no predicted samples.\n",
      "  'precision', 'predicted', average, warn_for)\n",
      "/usr/local/lib/python2.7/dist-packages/sklearn/metrics/classification.py:1113: UndefinedMetricWarning: F-score is ill-defined and being set to 0.0 in labels with no predicted samples.\n",
      "  'precision', 'predicted', average, warn_for)\n",
      "/usr/local/lib/python2.7/dist-packages/sklearn/metrics/classification.py:1115: UndefinedMetricWarning: F-score is ill-defined and being set to 0.0 in labels with no true samples.\n",
      "  'recall', 'true', average, warn_for)\n",
      "/usr/local/lib/python2.7/dist-packages/sklearn/metrics/classification.py:1113: UndefinedMetricWarning: F-score is ill-defined and being set to 0.0 in labels with no predicted samples.\n",
      "  'precision', 'predicted', average, warn_for)\n",
      "/usr/local/lib/python2.7/dist-packages/sklearn/metrics/classification.py:1115: UndefinedMetricWarning: F-score is ill-defined and being set to 0.0 in labels with no true samples.\n",
      "  'recall', 'true', average, warn_for)\n",
      "/usr/local/lib/python2.7/dist-packages/sklearn/metrics/classification.py:1113: UndefinedMetricWarning: F-score is ill-defined and being set to 0.0 in labels with no predicted samples.\n",
      "  'precision', 'predicted', average, warn_for)\n",
      "/usr/local/lib/python2.7/dist-packages/sklearn/metrics/classification.py:1115: UndefinedMetricWarning: F-score is ill-defined and being set to 0.0 in labels with no true samples.\n",
      "  'recall', 'true', average, warn_for)\n",
      "/usr/local/lib/python2.7/dist-packages/sklearn/metrics/classification.py:1115: UndefinedMetricWarning: F-score is ill-defined and being set to 0.0 in labels with no true samples.\n",
      "  'recall', 'true', average, warn_for)\n",
      "[Parallel(n_jobs=4)]: Done  42 out of  42 | elapsed:  2.1min finished\n"
     ]
    },
    {
     "name": "stdout",
     "output_type": "stream",
     "text": [
      "\t{'loss': 'squared_hinge', 'C': 10, 'class_weight': 'balanced'} 0.361623616236\n",
      "\n",
      "Mean accuracy: 0.371789286919\n",
      "{'loss': 'squared_hinge', 'C': 10, 'class_weight': 'balanced'}\n",
      "\tAccuracy: 0.388430968502 \t Accuracy normalized: 0.0836651915238\n",
      "\tPrecision: 0.297414336413 \t Recall: 0.388430968502\n",
      "\tF1 score: 0.322241872721\n"
     ]
    }
   ],
   "source": [
    "accuracy_classifiers(X_train, X_test, y_train, y_test, linear_svc=True, name_task='PCA', class_weight='balanced')"
   ]
  },
  {
   "cell_type": "code",
   "execution_count": 36,
   "metadata": {},
   "outputs": [
    {
     "name": "stdout",
     "output_type": "stream",
     "text": [
      "LinearSVC\n",
      "\n",
      "Iteration KFold: 1 / 5\n",
      "Fitting 3 folds for each of 14 candidates, totalling 42 fits\n"
     ]
    },
    {
     "name": "stderr",
     "output_type": "stream",
     "text": [
      "/usr/local/lib/python2.7/dist-packages/sklearn/metrics/classification.py:1113: UndefinedMetricWarning: F-score is ill-defined and being set to 0.0 in labels with no predicted samples.\n",
      "  'precision', 'predicted', average, warn_for)\n",
      "/usr/local/lib/python2.7/dist-packages/sklearn/metrics/classification.py:1113: UndefinedMetricWarning: F-score is ill-defined and being set to 0.0 in labels with no predicted samples.\n",
      "  'precision', 'predicted', average, warn_for)\n",
      "/usr/local/lib/python2.7/dist-packages/sklearn/metrics/classification.py:1113: UndefinedMetricWarning: F-score is ill-defined and being set to 0.0 in labels with no predicted samples.\n",
      "  'precision', 'predicted', average, warn_for)\n",
      "/usr/local/lib/python2.7/dist-packages/sklearn/metrics/classification.py:1113: UndefinedMetricWarning: F-score is ill-defined and being set to 0.0 in labels with no predicted samples.\n",
      "  'precision', 'predicted', average, warn_for)\n",
      "/usr/local/lib/python2.7/dist-packages/sklearn/metrics/classification.py:1115: UndefinedMetricWarning: F-score is ill-defined and being set to 0.0 in labels with no true samples.\n",
      "  'recall', 'true', average, warn_for)\n",
      "/usr/local/lib/python2.7/dist-packages/sklearn/metrics/classification.py:1115: UndefinedMetricWarning: F-score is ill-defined and being set to 0.0 in labels with no true samples.\n",
      "  'recall', 'true', average, warn_for)\n",
      "/usr/local/lib/python2.7/dist-packages/sklearn/metrics/classification.py:1115: UndefinedMetricWarning: F-score is ill-defined and being set to 0.0 in labels with no true samples.\n",
      "  'recall', 'true', average, warn_for)\n",
      "/usr/local/lib/python2.7/dist-packages/sklearn/metrics/classification.py:1115: UndefinedMetricWarning: F-score is ill-defined and being set to 0.0 in labels with no true samples.\n",
      "  'recall', 'true', average, warn_for)\n",
      "[Parallel(n_jobs=4)]: Done  42 out of  42 | elapsed:  1.6min finished\n"
     ]
    },
    {
     "name": "stdout",
     "output_type": "stream",
     "text": [
      "\t{'loss': 'squared_hinge', 'C': 0.001, 'class_weight': ''} 0.568584070796\n",
      "\n",
      "Iteration KFold: 2 / 5\n",
      "Fitting 3 folds for each of 14 candidates, totalling 42 fits\n"
     ]
    },
    {
     "name": "stderr",
     "output_type": "stream",
     "text": [
      "/usr/local/lib/python2.7/dist-packages/sklearn/metrics/classification.py:1113: UndefinedMetricWarning: F-score is ill-defined and being set to 0.0 in labels with no predicted samples.\n",
      "  'precision', 'predicted', average, warn_for)\n",
      "/usr/local/lib/python2.7/dist-packages/sklearn/metrics/classification.py:1113: UndefinedMetricWarning: F-score is ill-defined and being set to 0.0 in labels with no predicted samples.\n",
      "  'precision', 'predicted', average, warn_for)\n",
      "/usr/local/lib/python2.7/dist-packages/sklearn/metrics/classification.py:1113: UndefinedMetricWarning: F-score is ill-defined and being set to 0.0 in labels with no predicted samples.\n",
      "  'precision', 'predicted', average, warn_for)\n",
      "/usr/local/lib/python2.7/dist-packages/sklearn/metrics/classification.py:1113: UndefinedMetricWarning: F-score is ill-defined and being set to 0.0 in labels with no predicted samples.\n",
      "  'precision', 'predicted', average, warn_for)\n",
      "/usr/local/lib/python2.7/dist-packages/sklearn/metrics/classification.py:1115: UndefinedMetricWarning: F-score is ill-defined and being set to 0.0 in labels with no true samples.\n",
      "  'recall', 'true', average, warn_for)\n",
      "/usr/local/lib/python2.7/dist-packages/sklearn/metrics/classification.py:1115: UndefinedMetricWarning: F-score is ill-defined and being set to 0.0 in labels with no true samples.\n",
      "  'recall', 'true', average, warn_for)\n",
      "/usr/local/lib/python2.7/dist-packages/sklearn/metrics/classification.py:1115: UndefinedMetricWarning: F-score is ill-defined and being set to 0.0 in labels with no true samples.\n",
      "  'recall', 'true', average, warn_for)\n",
      "/usr/local/lib/python2.7/dist-packages/sklearn/metrics/classification.py:1115: UndefinedMetricWarning: F-score is ill-defined and being set to 0.0 in labels with no true samples.\n",
      "  'recall', 'true', average, warn_for)\n",
      "[Parallel(n_jobs=4)]: Done  42 out of  42 | elapsed:  1.6min finished\n"
     ]
    },
    {
     "name": "stdout",
     "output_type": "stream",
     "text": [
      "\t{'loss': 'squared_hinge', 'C': 0.01, 'class_weight': ''} 0.587020648968\n",
      "\n",
      "Iteration KFold: 3 / 5\n",
      "Fitting 3 folds for each of 14 candidates, totalling 42 fits\n"
     ]
    },
    {
     "name": "stderr",
     "output_type": "stream",
     "text": [
      "/usr/local/lib/python2.7/dist-packages/sklearn/metrics/classification.py:1113: UndefinedMetricWarning: F-score is ill-defined and being set to 0.0 in labels with no predicted samples.\n",
      "  'precision', 'predicted', average, warn_for)\n",
      "/usr/local/lib/python2.7/dist-packages/sklearn/metrics/classification.py:1113: UndefinedMetricWarning: F-score is ill-defined and being set to 0.0 in labels with no predicted samples.\n",
      "  'precision', 'predicted', average, warn_for)\n",
      "/usr/local/lib/python2.7/dist-packages/sklearn/metrics/classification.py:1113: UndefinedMetricWarning: F-score is ill-defined and being set to 0.0 in labels with no predicted samples.\n",
      "  'precision', 'predicted', average, warn_for)\n",
      "/usr/local/lib/python2.7/dist-packages/sklearn/metrics/classification.py:1113: UndefinedMetricWarning: F-score is ill-defined and being set to 0.0 in labels with no predicted samples.\n",
      "  'precision', 'predicted', average, warn_for)\n",
      "/usr/local/lib/python2.7/dist-packages/sklearn/metrics/classification.py:1115: UndefinedMetricWarning: F-score is ill-defined and being set to 0.0 in labels with no true samples.\n",
      "  'recall', 'true', average, warn_for)\n",
      "/usr/local/lib/python2.7/dist-packages/sklearn/metrics/classification.py:1115: UndefinedMetricWarning: F-score is ill-defined and being set to 0.0 in labels with no true samples.\n",
      "  'recall', 'true', average, warn_for)\n",
      "/usr/local/lib/python2.7/dist-packages/sklearn/metrics/classification.py:1115: UndefinedMetricWarning: F-score is ill-defined and being set to 0.0 in labels with no true samples.\n",
      "  'recall', 'true', average, warn_for)\n",
      "/usr/local/lib/python2.7/dist-packages/sklearn/metrics/classification.py:1115: UndefinedMetricWarning: F-score is ill-defined and being set to 0.0 in labels with no true samples.\n",
      "  'recall', 'true', average, warn_for)\n",
      "[Parallel(n_jobs=4)]: Done  42 out of  42 | elapsed:  1.7min finished\n"
     ]
    },
    {
     "name": "stdout",
     "output_type": "stream",
     "text": [
      "\t{'loss': 'squared_hinge', 'C': 0.01, 'class_weight': ''} 0.559734513274\n",
      "\n",
      "Iteration KFold: 4 / 5\n",
      "Fitting 3 folds for each of 14 candidates, totalling 42 fits\n"
     ]
    },
    {
     "name": "stderr",
     "output_type": "stream",
     "text": [
      "/usr/local/lib/python2.7/dist-packages/sklearn/metrics/classification.py:1113: UndefinedMetricWarning: F-score is ill-defined and being set to 0.0 in labels with no predicted samples.\n",
      "  'precision', 'predicted', average, warn_for)\n",
      "/usr/local/lib/python2.7/dist-packages/sklearn/metrics/classification.py:1113: UndefinedMetricWarning: F-score is ill-defined and being set to 0.0 in labels with no predicted samples.\n",
      "  'precision', 'predicted', average, warn_for)\n",
      "/usr/local/lib/python2.7/dist-packages/sklearn/metrics/classification.py:1113: UndefinedMetricWarning: F-score is ill-defined and being set to 0.0 in labels with no predicted samples.\n",
      "  'precision', 'predicted', average, warn_for)\n",
      "/usr/local/lib/python2.7/dist-packages/sklearn/metrics/classification.py:1113: UndefinedMetricWarning: F-score is ill-defined and being set to 0.0 in labels with no predicted samples.\n",
      "  'precision', 'predicted', average, warn_for)\n",
      "[Parallel(n_jobs=4)]: Done  42 out of  42 | elapsed:  1.7min finished\n"
     ]
    },
    {
     "name": "stdout",
     "output_type": "stream",
     "text": [
      "\t{'loss': 'squared_hinge', 'C': 0.01, 'class_weight': ''} 0.588929889299\n",
      "\n",
      "Iteration KFold: 5 / 5\n",
      "Fitting 3 folds for each of 14 candidates, totalling 42 fits\n"
     ]
    },
    {
     "name": "stderr",
     "output_type": "stream",
     "text": [
      "/usr/local/lib/python2.7/dist-packages/sklearn/metrics/classification.py:1113: UndefinedMetricWarning: F-score is ill-defined and being set to 0.0 in labels with no predicted samples.\n",
      "  'precision', 'predicted', average, warn_for)\n",
      "/usr/local/lib/python2.7/dist-packages/sklearn/metrics/classification.py:1113: UndefinedMetricWarning: F-score is ill-defined and being set to 0.0 in labels with no predicted samples.\n",
      "  'precision', 'predicted', average, warn_for)\n",
      "/usr/local/lib/python2.7/dist-packages/sklearn/metrics/classification.py:1113: UndefinedMetricWarning: F-score is ill-defined and being set to 0.0 in labels with no predicted samples.\n",
      "  'precision', 'predicted', average, warn_for)\n",
      "/usr/local/lib/python2.7/dist-packages/sklearn/metrics/classification.py:1113: UndefinedMetricWarning: F-score is ill-defined and being set to 0.0 in labels with no predicted samples.\n",
      "  'precision', 'predicted', average, warn_for)\n",
      "/usr/local/lib/python2.7/dist-packages/sklearn/metrics/classification.py:1115: UndefinedMetricWarning: F-score is ill-defined and being set to 0.0 in labels with no true samples.\n",
      "  'recall', 'true', average, warn_for)\n",
      "/usr/local/lib/python2.7/dist-packages/sklearn/metrics/classification.py:1115: UndefinedMetricWarning: F-score is ill-defined and being set to 0.0 in labels with no true samples.\n",
      "  'recall', 'true', average, warn_for)\n",
      "/usr/local/lib/python2.7/dist-packages/sklearn/metrics/classification.py:1115: UndefinedMetricWarning: F-score is ill-defined and being set to 0.0 in labels with no true samples.\n",
      "  'recall', 'true', average, warn_for)\n",
      "/usr/local/lib/python2.7/dist-packages/sklearn/metrics/classification.py:1115: UndefinedMetricWarning: F-score is ill-defined and being set to 0.0 in labels with no true samples.\n",
      "  'recall', 'true', average, warn_for)\n",
      "[Parallel(n_jobs=4)]: Done  42 out of  42 | elapsed:  1.6min finished\n"
     ]
    },
    {
     "name": "stdout",
     "output_type": "stream",
     "text": [
      "\t{'loss': 'squared_hinge', 'C': 0.1, 'class_weight': ''} 0.567527675277\n",
      "\n",
      "Mean accuracy: 0.574359359523\n",
      "{'loss': 'squared_hinge', 'C': 0.01, 'class_weight': ''}\n",
      "\tAccuracy: 0.46438033559 \t Accuracy normalized: 0.0839015345965\n",
      "\tPrecision: 0.303684920007 \t Recall: 0.46438033559\n",
      "\tF1 score: 0.306373545502\n"
     ]
    }
   ],
   "source": [
    "accuracy_classifiers(X_train, X_test, y_train, y_test, linear_svc=True, name_task='PCA', class_weight='')"
   ]
  },
  {
   "cell_type": "markdown",
   "metadata": {},
   "source": [
    "### K-NN"
   ]
  },
  {
   "cell_type": "code",
   "execution_count": 49,
   "metadata": {},
   "outputs": [
    {
     "name": "stdout",
     "output_type": "stream",
     "text": [
      "KNeighbors\n",
      "Iteration KFold: 1 / 5\n",
      "Fitting 3 folds for each of 32 candidates, totalling 96 fits\n"
     ]
    },
    {
     "name": "stderr",
     "output_type": "stream",
     "text": [
      "/usr/local/lib/python2.7/dist-packages/sklearn/metrics/classification.py:1113: UndefinedMetricWarning: F-score is ill-defined and being set to 0.0 in labels with no predicted samples.\n",
      "  'precision', 'predicted', average, warn_for)\n",
      "/usr/local/lib/python2.7/dist-packages/sklearn/metrics/classification.py:1113: UndefinedMetricWarning: F-score is ill-defined and being set to 0.0 in labels with no predicted samples.\n",
      "  'precision', 'predicted', average, warn_for)\n",
      "/usr/local/lib/python2.7/dist-packages/sklearn/metrics/classification.py:1113: UndefinedMetricWarning: F-score is ill-defined and being set to 0.0 in labels with no predicted samples.\n",
      "  'precision', 'predicted', average, warn_for)\n",
      "/usr/local/lib/python2.7/dist-packages/sklearn/metrics/classification.py:1113: UndefinedMetricWarning: F-score is ill-defined and being set to 0.0 in labels with no predicted samples.\n",
      "  'precision', 'predicted', average, warn_for)\n",
      "[Parallel(n_jobs=4)]: Done  42 tasks      | elapsed:   41.1s\n",
      "[Parallel(n_jobs=4)]: Done  96 out of  96 | elapsed:  1.7min finished\n"
     ]
    },
    {
     "name": "stdout",
     "output_type": "stream",
     "text": [
      "\t{'n_neighbors': 5, 'metric': 'chebyshev', 'weights': 'uniform'} 0.525073746313\n",
      "\n",
      "Iteration KFold: 2 / 5\n",
      "Fitting 3 folds for each of 32 candidates, totalling 96 fits\n"
     ]
    },
    {
     "name": "stderr",
     "output_type": "stream",
     "text": [
      "/usr/local/lib/python2.7/dist-packages/sklearn/metrics/classification.py:1113: UndefinedMetricWarning: F-score is ill-defined and being set to 0.0 in labels with no predicted samples.\n",
      "  'precision', 'predicted', average, warn_for)\n",
      "/usr/local/lib/python2.7/dist-packages/sklearn/metrics/classification.py:1113: UndefinedMetricWarning: F-score is ill-defined and being set to 0.0 in labels with no predicted samples.\n",
      "  'precision', 'predicted', average, warn_for)\n",
      "/usr/local/lib/python2.7/dist-packages/sklearn/metrics/classification.py:1113: UndefinedMetricWarning: F-score is ill-defined and being set to 0.0 in labels with no predicted samples.\n",
      "  'precision', 'predicted', average, warn_for)\n",
      "/usr/local/lib/python2.7/dist-packages/sklearn/metrics/classification.py:1113: UndefinedMetricWarning: F-score is ill-defined and being set to 0.0 in labels with no predicted samples.\n",
      "  'precision', 'predicted', average, warn_for)\n",
      "/usr/local/lib/python2.7/dist-packages/sklearn/metrics/classification.py:1115: UndefinedMetricWarning: F-score is ill-defined and being set to 0.0 in labels with no true samples.\n",
      "  'recall', 'true', average, warn_for)\n",
      "/usr/local/lib/python2.7/dist-packages/sklearn/metrics/classification.py:1115: UndefinedMetricWarning: F-score is ill-defined and being set to 0.0 in labels with no true samples.\n",
      "  'recall', 'true', average, warn_for)\n",
      "[Parallel(n_jobs=4)]: Done  42 tasks      | elapsed:   52.5s\n",
      "[Parallel(n_jobs=4)]: Done  96 out of  96 | elapsed:  1.7min finished\n"
     ]
    },
    {
     "name": "stdout",
     "output_type": "stream",
     "text": [
      "\t{'n_neighbors': 10, 'metric': 'euclidean', 'weights': 'distance'} 0.522123893805\n",
      "\n",
      "Iteration KFold: 3 / 5\n",
      "Fitting 3 folds for each of 32 candidates, totalling 96 fits\n"
     ]
    },
    {
     "name": "stderr",
     "output_type": "stream",
     "text": [
      "/usr/local/lib/python2.7/dist-packages/sklearn/metrics/classification.py:1113: UndefinedMetricWarning: F-score is ill-defined and being set to 0.0 in labels with no predicted samples.\n",
      "  'precision', 'predicted', average, warn_for)\n",
      "/usr/local/lib/python2.7/dist-packages/sklearn/metrics/classification.py:1113: UndefinedMetricWarning: F-score is ill-defined and being set to 0.0 in labels with no predicted samples.\n",
      "  'precision', 'predicted', average, warn_for)\n",
      "/usr/local/lib/python2.7/dist-packages/sklearn/metrics/classification.py:1113: UndefinedMetricWarning: F-score is ill-defined and being set to 0.0 in labels with no predicted samples.\n",
      "  'precision', 'predicted', average, warn_for)\n",
      "/usr/local/lib/python2.7/dist-packages/sklearn/metrics/classification.py:1113: UndefinedMetricWarning: F-score is ill-defined and being set to 0.0 in labels with no predicted samples.\n",
      "  'precision', 'predicted', average, warn_for)\n",
      "[Parallel(n_jobs=4)]: Done  42 tasks      | elapsed:   43.6s\n",
      "[Parallel(n_jobs=4)]: Done  96 out of  96 | elapsed:  1.5min finished\n"
     ]
    },
    {
     "name": "stdout",
     "output_type": "stream",
     "text": [
      "\t{'n_neighbors': 10, 'metric': 'euclidean', 'weights': 'distance'} 0.548672566372\n",
      "\n",
      "Iteration KFold: 4 / 5\n",
      "Fitting 3 folds for each of 32 candidates, totalling 96 fits\n"
     ]
    },
    {
     "name": "stderr",
     "output_type": "stream",
     "text": [
      "/usr/local/lib/python2.7/dist-packages/sklearn/metrics/classification.py:1113: UndefinedMetricWarning: F-score is ill-defined and being set to 0.0 in labels with no predicted samples.\n",
      "  'precision', 'predicted', average, warn_for)\n",
      "/usr/local/lib/python2.7/dist-packages/sklearn/metrics/classification.py:1113: UndefinedMetricWarning: F-score is ill-defined and being set to 0.0 in labels with no predicted samples.\n",
      "  'precision', 'predicted', average, warn_for)\n",
      "/usr/local/lib/python2.7/dist-packages/sklearn/metrics/classification.py:1113: UndefinedMetricWarning: F-score is ill-defined and being set to 0.0 in labels with no predicted samples.\n",
      "  'precision', 'predicted', average, warn_for)\n",
      "/usr/local/lib/python2.7/dist-packages/sklearn/metrics/classification.py:1113: UndefinedMetricWarning: F-score is ill-defined and being set to 0.0 in labels with no predicted samples.\n",
      "  'precision', 'predicted', average, warn_for)\n",
      "[Parallel(n_jobs=4)]: Done  42 tasks      | elapsed:   41.7s\n",
      "[Parallel(n_jobs=4)]: Done  96 out of  96 | elapsed:  1.5min finished\n"
     ]
    },
    {
     "name": "stdout",
     "output_type": "stream",
     "text": [
      "\t{'n_neighbors': 5, 'metric': 'manhattan', 'weights': 'uniform'} 0.553505535055\n",
      "\n",
      "Iteration KFold: 5 / 5\n",
      "Fitting 3 folds for each of 32 candidates, totalling 96 fits\n"
     ]
    },
    {
     "name": "stderr",
     "output_type": "stream",
     "text": [
      "/usr/local/lib/python2.7/dist-packages/sklearn/metrics/classification.py:1113: UndefinedMetricWarning: F-score is ill-defined and being set to 0.0 in labels with no predicted samples.\n",
      "  'precision', 'predicted', average, warn_for)\n",
      "/usr/local/lib/python2.7/dist-packages/sklearn/metrics/classification.py:1113: UndefinedMetricWarning: F-score is ill-defined and being set to 0.0 in labels with no predicted samples.\n",
      "  'precision', 'predicted', average, warn_for)\n",
      "/usr/local/lib/python2.7/dist-packages/sklearn/metrics/classification.py:1113: UndefinedMetricWarning: F-score is ill-defined and being set to 0.0 in labels with no predicted samples.\n",
      "  'precision', 'predicted', average, warn_for)\n",
      "/usr/local/lib/python2.7/dist-packages/sklearn/metrics/classification.py:1113: UndefinedMetricWarning: F-score is ill-defined and being set to 0.0 in labels with no predicted samples.\n",
      "  'precision', 'predicted', average, warn_for)\n",
      "[Parallel(n_jobs=4)]: Done  42 tasks      | elapsed:   41.7s\n",
      "[Parallel(n_jobs=4)]: Done  96 out of  96 | elapsed:  1.4min finished\n"
     ]
    },
    {
     "name": "stdout",
     "output_type": "stream",
     "text": [
      "\t{'n_neighbors': 5, 'metric': 'euclidean', 'weights': 'distance'} 0.523247232472\n",
      "\n",
      "Mean accuracy: 0.534524594803\n",
      "{'n_neighbors': 5, 'metric': 'manhattan', 'weights': 'uniform'}\n",
      "\tAccuracy: 0.433176332058 \t Accuracy normalized: 0.0828763254151\n",
      "\tPrecision: 0.313367144177 \t Recall: 0.433176332058\n",
      "\tF1 score: 0.319313598846\n"
     ]
    }
   ],
   "source": [
    "accuracy_classifiers(X_train, X_test, y_train, y_test, k_neighbors=True, name_task='PCA')"
   ]
  },
  {
   "cell_type": "markdown",
   "metadata": {},
   "source": [
    "### Gradient Boosting"
   ]
  },
  {
   "cell_type": "code",
   "execution_count": 50,
   "metadata": {
    "scrolled": true
   },
   "outputs": [
    {
     "name": "stdout",
     "output_type": "stream",
     "text": [
      "GradientBoosting\n",
      "Iteration KFold: 1 / 2\n",
      "Fitting 3 folds for each of 18 candidates, totalling 54 fits\n"
     ]
    },
    {
     "name": "stderr",
     "output_type": "stream",
     "text": [
      "/usr/local/lib/python2.7/dist-packages/sklearn/metrics/classification.py:1113: UndefinedMetricWarning: F-score is ill-defined and being set to 0.0 in labels with no predicted samples.\n",
      "  'precision', 'predicted', average, warn_for)\n",
      "/usr/local/lib/python2.7/dist-packages/sklearn/metrics/classification.py:1113: UndefinedMetricWarning: F-score is ill-defined and being set to 0.0 in labels with no predicted samples.\n",
      "  'precision', 'predicted', average, warn_for)\n",
      "/usr/local/lib/python2.7/dist-packages/sklearn/metrics/classification.py:1113: UndefinedMetricWarning: F-score is ill-defined and being set to 0.0 in labels with no predicted samples.\n",
      "  'precision', 'predicted', average, warn_for)\n",
      "/usr/local/lib/python2.7/dist-packages/sklearn/metrics/classification.py:1113: UndefinedMetricWarning: F-score is ill-defined and being set to 0.0 in labels with no predicted samples.\n",
      "  'precision', 'predicted', average, warn_for)\n",
      "[Parallel(n_jobs=4)]: Done  42 tasks      | elapsed:  5.4min\n",
      "[Parallel(n_jobs=4)]: Done  54 out of  54 | elapsed:  7.2min finished\n"
     ]
    },
    {
     "name": "stdout",
     "output_type": "stream",
     "text": [
      "\t{'n_estimators': 100, 'learning_rate': 0.1, 'min_samples_leaf': 1} 0.562702862201\n",
      "\n",
      "Iteration KFold: 2 / 2\n",
      "Fitting 3 folds for each of 18 candidates, totalling 54 fits\n"
     ]
    },
    {
     "name": "stderr",
     "output_type": "stream",
     "text": [
      "/usr/local/lib/python2.7/dist-packages/sklearn/cross_validation.py:552: Warning: The least populated class in y has only 2 members, which is too few. The minimum number of labels for any class cannot be less than n_folds=3.\n",
      "  % (min_labels, self.n_folds)), Warning)\n",
      "/usr/local/lib/python2.7/dist-packages/sklearn/metrics/classification.py:1113: UndefinedMetricWarning: F-score is ill-defined and being set to 0.0 in labels with no predicted samples.\n",
      "  'precision', 'predicted', average, warn_for)\n",
      "/usr/local/lib/python2.7/dist-packages/sklearn/metrics/classification.py:1113: UndefinedMetricWarning: F-score is ill-defined and being set to 0.0 in labels with no predicted samples.\n",
      "  'precision', 'predicted', average, warn_for)\n",
      "/usr/local/lib/python2.7/dist-packages/sklearn/metrics/classification.py:1113: UndefinedMetricWarning: F-score is ill-defined and being set to 0.0 in labels with no predicted samples.\n",
      "  'precision', 'predicted', average, warn_for)\n",
      "/usr/local/lib/python2.7/dist-packages/sklearn/metrics/classification.py:1113: UndefinedMetricWarning: F-score is ill-defined and being set to 0.0 in labels with no predicted samples.\n",
      "  'precision', 'predicted', average, warn_for)\n",
      "[Parallel(n_jobs=4)]: Done  42 tasks      | elapsed:  5.3min\n",
      "[Parallel(n_jobs=4)]: Done  54 out of  54 | elapsed:  7.1min finished\n"
     ]
    },
    {
     "name": "stdout",
     "output_type": "stream",
     "text": [
      "\t{'n_estimators': 100, 'learning_rate': 0.1, 'min_samples_leaf': 5} 0.573620537032\n",
      "\n",
      "Mean accuracy: 0.568161699616\n",
      "{'n_estimators': 100, 'learning_rate': 0.1, 'min_samples_leaf': 5}\n",
      "\tAccuracy: 0.460406240801 \t Accuracy normalized: 0.0858915130342\n",
      "\tPrecision: 0.280868747799 \t Recall: 0.460406240801\n",
      "\tF1 score: 0.302467368004\n"
     ]
    }
   ],
   "source": [
    "accuracy_classifiers(X_train, X_test, y_train, y_test, gradient_boosting=True, name_task='PCA')"
   ]
  },
  {
   "cell_type": "markdown",
   "metadata": {
    "collapsed": true
   },
   "source": [
    "## Summary with the best parameters of the classifiers"
   ]
  },
  {
   "cell_type": "code",
   "execution_count": null,
   "metadata": {
    "collapsed": true
   },
   "outputs": [],
   "source": [
    "# For given parameters see the information and obtain y predicted for the test dataset\n",
    "#using linear SVC\n",
    "def linear_SVM_predict(X, X_test, y, y_test, name_task, class_weight):\n",
    "    name='linear_SVC'\n",
    "    scaler = StandardScaler()\n",
    "    X_train = scaler.fit_transform(X)\n",
    "    X_test = scaler.fit_transform(X_test)\n",
    "\n",
    "    clf2 = svm.LinearSVC(loss='squared_hinge', C=0.001, class_weight='balanced')\n",
    "\n",
    "    clf2.fit(X_train, y)\n",
    "    yhat = clf2.predict(X_test)\n",
    "\n",
    "    acc = metrics.accuracy_score(yhat, y_test)\n",
    "    acc_norm = normalized_accuracy(y_test, yhat)\n",
    "    title=TITLE+'_'+name+'_'+name_task+'_'+TITLE+'_'+class_weight+'_'+str(round(acc,5))\n",
    "    np.save(\"npdata/\"+title+\"_real\", y_test)\n",
    "    np.save(\"npdata/\"+title+\"_predicted\", yhat)\n",
    "    print '\\tAccuracy:',acc, '\\t Accuracy normalized:', acc_norm\n",
    "    save_confusion_matrix(y_test, yhat, title, \n",
    "                      title=str(name)+'_'+name_task, \n",
    "                      info='Acc.: '+ str(round(acc*100,2))+',  Acc. norm.:'+str(round(acc_norm*100,2)))\n",
    "\n",
    "# For given parameters see the information and obtain y predicted for the test dataset\n",
    "#using linear SVC\n",
    "def knn_predict(X, X_test, y, y_test, name_task, class_weight):\n",
    "    name='knn'\n",
    "    scaler = StandardScaler()\n",
    "    X_train = scaler.fit_transform(X)\n",
    "    X_test = scaler.fit_transform(X_test)\n",
    "\n",
    "    clf2 = KNeighborsClassifier(n_neighbors=3, metric='chebyshev', weights='uniform')\n",
    "    clf2.fit(X_train, y)\n",
    "    yhat = clf2.predict(X_test)\n",
    "\n",
    "    acc = metrics.accuracy_score(yhat, y_test)\n",
    "    acc_norm = normalized_accuracy(y_test, yhat)\n",
    "    title=TITLE+'_'+name+'_'+name_task+'_'+TITLE+'_'+class_weight+'_'+str(round(acc,5))\n",
    "    np.save(\"npdata/\"+title+\"_real\", y_test)\n",
    "    np.save(\"npdata/\"+title+\"_predicted\", yhat)\n",
    "    print '\\tAccuracy:',acc, '\\t Accuracy normalized:', acc_norm\n",
    "    save_confusion_matrix(y_test, yhat, title, \n",
    "                      title=str(name)+'_'+name_task, \n",
    "                      info='Acc.: '+ str(round(acc*100,2))+',  Acc. norm.:'+str(round(acc_norm*100,2)))\n",
    "\n",
    "# For given parameters see the information and obtain y predicted for the test dataset\n",
    "#using Gradient Boosting\n",
    "def gradient_predict(X, X_test, y, y_test, name_task, class_weight):\n",
    "    name='gradient_boosting'\n",
    "    # Once we have the best parameters for the training dataset, we obtain the accuraacy for the test dataset with the best parameters obtained. \n",
    "    scaler = StandardScaler()\n",
    "    X_train = scaler.fit_transform(X)\n",
    "    X_test = scaler.fit_transform(X_test)\n",
    "\n",
    "    clf2 = ensemble.GradientBoostingClassifier(n_estimators=50, learning_rate=0.1, \n",
    "                                              min_samples_leaf=3)\n",
    "       \n",
    "    clf2.fit(X_train, y)\n",
    "    yhat = clf2.predict(X_test)\n",
    "\n",
    "    acc = metrics.accuracy_score(yhat, y_test)\n",
    "    acc_norm = normalized_accuracy(y_test, yhat)\n",
    "    title=TITLE+'_'+name+'_'+name_task+'_'+TITLE+'_'+class_weight+'_'+str(round(acc,5))\n",
    "    np.save(\"npdata/\"+title+\"_real\", y_test)\n",
    "    np.save(\"npdata/\"+title+\"_predicted\", yhat)\n",
    "    print '\\tAccuracy:',acc, '\\t Accuracy normalized:', acc_norm\n",
    "    save_confusion_matrix(y_test, yhat, title, \n",
    "                      title=str(name)+'_'+name_task, \n",
    "                      info='Acc.: '+ str(round(acc*100,2))+',  Acc. norm.:'+str(round(acc_norm*100,2)))\n"
   ]
  },
  {
   "cell_type": "markdown",
   "metadata": {},
   "source": [
    "### Multitask Dataset"
   ]
  },
  {
   "cell_type": "markdown",
   "metadata": {},
   "source": [
    "###### Food"
   ]
  },
  {
   "cell_type": "code",
   "execution_count": 70,
   "metadata": {},
   "outputs": [
    {
     "name": "stdout",
     "output_type": "stream",
     "text": [
      "\tAccuracy: 0.925964085958 \t Accuracy normalized: 0.333174451859\n",
      "\tPrecision: 0.858197313653 \t Recall: 0.925964085958\n",
      "\tF1 score: 0.890793726713\n"
     ]
    }
   ],
   "source": [
    "#n_neighbors 3, metric chebyshev, weights uniform\n",
    "knn_predict(X_train, X_test, y_train_food, y_test_food, name_task='PCA_food', class_weight='')"
   ]
  },
  {
   "cell_type": "code",
   "execution_count": 71,
   "metadata": {},
   "outputs": [
    {
     "name": "stdout",
     "output_type": "stream",
     "text": [
      "\tAccuracy: 0.885192817192 \t Accuracy normalized: 0.357734614669\n",
      "\tPrecision: 0.86839400532 \t Recall: 0.885192817192\n",
      "\tF1 score: 0.876562662027\n"
     ]
    }
   ],
   "source": [
    "linear_SVM_predict(X_train, X_test, y_train_food, y_test_food, name_task='PCA_food', class_weight='balanced')\n",
    "#{'loss': 'squared_hinge', 'C': 0.001, 'class_weight': ''}"
   ]
  },
  {
   "cell_type": "code",
   "execution_count": 72,
   "metadata": {},
   "outputs": [
    {
     "name": "stdout",
     "output_type": "stream",
     "text": [
      "\tAccuracy: 0.925816897262 \t Accuracy normalized: 0.334221933413\n",
      "\tPrecision: 0.864506898846 \t Recall: 0.925816897262\n",
      "\tF1 score: 0.891070252813\n"
     ]
    }
   ],
   "source": [
    "#n_estimators=50, learningrate=0.1, min samplesleaf=3\n",
    "gradient_predict(X_train, X_test, y_train_food, y_test_food, name_task='PCA_food', class_weight='')"
   ]
  },
  {
   "cell_type": "markdown",
   "metadata": {},
   "source": [
    "###### Social"
   ]
  },
  {
   "cell_type": "code",
   "execution_count": 63,
   "metadata": {},
   "outputs": [
    {
     "name": "stdout",
     "output_type": "stream",
     "text": [
      "\tAccuracy: 0.654548130704 \t Accuracy normalized: 0.54989399161\n",
      "\tPrecision: 0.748304209074 \t Recall: 0.654548130704\n",
      "\tF1 score: 0.5545178198\n"
     ]
    }
   ],
   "source": [
    "#n_neighbors 3, metric manhattan, weights distance\n",
    "knn_predict(X_train, X_test, y_train_social, y_test_social, name_task='PCA_Social', class_weight='')"
   ]
  },
  {
   "cell_type": "code",
   "execution_count": 64,
   "metadata": {},
   "outputs": [
    {
     "name": "stdout",
     "output_type": "stream",
     "text": [
      "\tAccuracy: 0.613188107153 \t Accuracy normalized: 0.545703153205\n",
      "\tPrecision: 0.585161110091 \t Recall: 0.613188107153\n",
      "\tF1 score: 0.578356238279\n"
     ]
    }
   ],
   "source": [
    "linear_SVM_predict(X_train, X_test, y_train_social, y_test_social, name_task='PCA_Social', class_weight='balanced')\n",
    "#{'loss': 'squared_hinge', 'C': 10, 'class_weight': 'balanced'}"
   ]
  },
  {
   "cell_type": "code",
   "execution_count": 65,
   "metadata": {},
   "outputs": [
    {
     "name": "stdout",
     "output_type": "stream",
     "text": [
      "\tAccuracy: 0.637327053282 \t Accuracy normalized: 0.538671157837\n",
      "\tPrecision: 0.636880634302 \t Recall: 0.637327053282\n",
      "\tF1 score: 0.549857369336\n"
     ]
    }
   ],
   "source": [
    "#n_estimators=100, learningrate=0.1, min samplesleaf=5\n",
    "gradient_predict(X_train, X_test, y_train_social, y_test_social, name_task='PCA_Social', class_weight='')"
   ]
  },
  {
   "cell_type": "markdown",
   "metadata": {},
   "source": [
    "#### Table"
   ]
  },
  {
   "cell_type": "code",
   "execution_count": 66,
   "metadata": {},
   "outputs": [
    {
     "name": "stdout",
     "output_type": "stream",
     "text": [
      "\tAccuracy: 0.734765969974 \t Accuracy normalized: 0.549103118287\n",
      "\tPrecision: 0.800182667102 \t Recall: 0.734765969974\n",
      "\tF1 score: 0.647509858033\n"
     ]
    }
   ],
   "source": [
    "#n_neighbors 3, metric manhattan, weights distance\n",
    "knn_predict(X_train, X_test, y_train_table, y_test_table, name_task='PCA_table', class_weight='')"
   ]
  },
  {
   "cell_type": "code",
   "execution_count": 67,
   "metadata": {},
   "outputs": [
    {
     "name": "stdout",
     "output_type": "stream",
     "text": [
      "\tAccuracy: 0.685457756844 \t Accuracy normalized: 0.53616574255\n",
      "\tPrecision: 0.632972519945 \t Recall: 0.685457756844\n",
      "\tF1 score: 0.638146967744\n"
     ]
    }
   ],
   "source": [
    "linear_SVM_predict(X_train, X_test, y_train_table, y_test_table, name_task='PCA_table', class_weight='balanced')\n",
    "#{'loss': 'squared_hinge', 'C': 10, 'class_weight': 'balanced'}"
   ]
  },
  {
   "cell_type": "code",
   "execution_count": 68,
   "metadata": {},
   "outputs": [
    {
     "name": "stdout",
     "output_type": "stream",
     "text": [
      "\tAccuracy: 0.719899911687 \t Accuracy normalized: 0.542533923891\n",
      "\tPrecision: 0.696650164436 \t Recall: 0.719899911687\n",
      "\tF1 score: 0.64287207616\n"
     ]
    }
   ],
   "source": [
    "#n_estimators=100, learningrate=0.1, min samplesleaf=5\n",
    "gradient_predict(X_train, X_test, y_train_table, y_test_table, name_task='PCA_table', class_weight='')"
   ]
  },
  {
   "cell_type": "markdown",
   "metadata": {},
   "source": [
    "## Power Set"
   ]
  },
  {
   "cell_type": "code",
   "execution_count": 46,
   "metadata": {},
   "outputs": [
    {
     "name": "stdout",
     "output_type": "stream",
     "text": [
      "\tAccuracy: 0.407271121578 \t Accuracy normalized: 0.0828223205629\n",
      "\tPrecision: 0.290684029124 \t Recall: 0.407271121578\n",
      "\tF1 score: 0.324469246326\n"
     ]
    },
    {
     "name": "stderr",
     "output_type": "stream",
     "text": [
      "/usr/local/lib/python2.7/dist-packages/sklearn/metrics/classification.py:1113: UndefinedMetricWarning: Precision and F-score are ill-defined and being set to 0.0 in labels with no predicted samples.\n",
      "  'precision', 'predicted', average, warn_for)\n"
     ]
    }
   ],
   "source": [
    "#n_neighbors 5, metric euclidean, weights distance\n",
    "knn_predict(X_train, X_test, y_train, y_test, name_task='PCA', class_weight='')"
   ]
  },
  {
   "cell_type": "code",
   "execution_count": 50,
   "metadata": {},
   "outputs": [
    {
     "name": "stdout",
     "output_type": "stream",
     "text": [
      "\tAccuracy: 0.46438033559 \t Accuracy normalized: 0.0839015345965\n",
      "\tPrecision: 0.303684920007 \t Recall: 0.46438033559\n",
      "\tF1 score: 0.306373545502\n"
     ]
    }
   ],
   "source": [
    "linear_SVM_predict(X_train, X_test, y_train, y_test, name_task='PCA', class_weight='')\n",
    "#{'loss': 'squared_hinge', 'C': 0.01, 'class_weight': ''}"
   ]
  },
  {
   "cell_type": "code",
   "execution_count": 48,
   "metadata": {},
   "outputs": [
    {
     "name": "stdout",
     "output_type": "stream",
     "text": [
      "\tAccuracy: 0.460111863409 \t Accuracy normalized: 0.0858089415556\n",
      "\tPrecision: 0.278204621411 \t Recall: 0.460111863409\n",
      "\tF1 score: 0.302094109146\n"
     ]
    }
   ],
   "source": [
    "#n_estimators=100, learningrate=0.1, min samplesleaf=5\n",
    "gradient_predict(X_train, X_test, y_train, y_test, name_task='PCA', class_weight='')"
   ]
  }
 ],
 "metadata": {
  "kernelspec": {
   "display_name": "Python 2",
   "language": "python",
   "name": "python2"
  },
  "language_info": {
   "codemirror_mode": {
    "name": "ipython",
    "version": 3
   },
   "file_extension": ".py",
   "mimetype": "text/x-python",
   "name": "python",
   "nbconvert_exporter": "python",
   "pygments_lexer": "ipython3",
   "version": "3.6.8"
  }
 },
 "nbformat": 4,
 "nbformat_minor": 2
}
